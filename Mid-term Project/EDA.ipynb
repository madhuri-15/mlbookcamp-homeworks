{
 "cells": [
  {
   "cell_type": "code",
   "execution_count": 1,
   "id": "cb5995b3",
   "metadata": {
    "ExecuteTime": {
     "end_time": "2022-11-03T12:41:03.166619Z",
     "start_time": "2022-11-03T12:40:43.527138Z"
    }
   },
   "outputs": [],
   "source": [
    "# importing libraries\n",
    "import pandas as pd\n",
    "import numpy as np \n",
    "\n",
    "import matplotlib.pyplot as plt\n",
    "import seaborn as sns\n",
    "%matplotlib inline\n",
    "\n",
    "from scipy import stats\n",
    "\n",
    "# Setting color palatte\n",
    "colors = ['#373F51','#DAA49A','#58A4B0','#D8DBE2']\n",
    "sns.set_palette(colors)\n",
    "\n",
    "plt.rcParams['figure.dpi'] = 70\n",
    "plt.rcParams['figure.figsize'] = [6, 5]"
   ]
  },
  {
   "cell_type": "code",
   "execution_count": 2,
   "id": "2c06a933",
   "metadata": {
    "ExecuteTime": {
     "end_time": "2022-11-03T12:41:03.584251Z",
     "start_time": "2022-11-03T12:41:03.173635Z"
    }
   },
   "outputs": [
    {
     "data": {
      "text/html": [
       "<div>\n",
       "<style scoped>\n",
       "    .dataframe tbody tr th:only-of-type {\n",
       "        vertical-align: middle;\n",
       "    }\n",
       "\n",
       "    .dataframe tbody tr th {\n",
       "        vertical-align: top;\n",
       "    }\n",
       "\n",
       "    .dataframe thead th {\n",
       "        text-align: right;\n",
       "    }\n",
       "</style>\n",
       "<table border=\"1\" class=\"dataframe\">\n",
       "  <thead>\n",
       "    <tr style=\"text-align: right;\">\n",
       "      <th></th>\n",
       "      <th>Loan_ID</th>\n",
       "      <th>Gender</th>\n",
       "      <th>Married</th>\n",
       "      <th>Dependents</th>\n",
       "      <th>Education</th>\n",
       "      <th>Self_Employed</th>\n",
       "      <th>ApplicantIncome</th>\n",
       "      <th>CoapplicantIncome</th>\n",
       "      <th>LoanAmount</th>\n",
       "      <th>Loan_Amount_Term</th>\n",
       "      <th>Credit_History</th>\n",
       "      <th>Property_Area</th>\n",
       "      <th>Loan_Status</th>\n",
       "    </tr>\n",
       "  </thead>\n",
       "  <tbody>\n",
       "    <tr>\n",
       "      <th>0</th>\n",
       "      <td>LP001002</td>\n",
       "      <td>Male</td>\n",
       "      <td>No</td>\n",
       "      <td>0</td>\n",
       "      <td>Graduate</td>\n",
       "      <td>No</td>\n",
       "      <td>5849</td>\n",
       "      <td>0.0</td>\n",
       "      <td>NaN</td>\n",
       "      <td>360.0</td>\n",
       "      <td>1.0</td>\n",
       "      <td>Urban</td>\n",
       "      <td>Y</td>\n",
       "    </tr>\n",
       "    <tr>\n",
       "      <th>1</th>\n",
       "      <td>LP001003</td>\n",
       "      <td>Male</td>\n",
       "      <td>Yes</td>\n",
       "      <td>1</td>\n",
       "      <td>Graduate</td>\n",
       "      <td>No</td>\n",
       "      <td>4583</td>\n",
       "      <td>1508.0</td>\n",
       "      <td>128.0</td>\n",
       "      <td>360.0</td>\n",
       "      <td>1.0</td>\n",
       "      <td>Rural</td>\n",
       "      <td>N</td>\n",
       "    </tr>\n",
       "    <tr>\n",
       "      <th>2</th>\n",
       "      <td>LP001005</td>\n",
       "      <td>Male</td>\n",
       "      <td>Yes</td>\n",
       "      <td>0</td>\n",
       "      <td>Graduate</td>\n",
       "      <td>Yes</td>\n",
       "      <td>3000</td>\n",
       "      <td>0.0</td>\n",
       "      <td>66.0</td>\n",
       "      <td>360.0</td>\n",
       "      <td>1.0</td>\n",
       "      <td>Urban</td>\n",
       "      <td>Y</td>\n",
       "    </tr>\n",
       "    <tr>\n",
       "      <th>3</th>\n",
       "      <td>LP001006</td>\n",
       "      <td>Male</td>\n",
       "      <td>Yes</td>\n",
       "      <td>0</td>\n",
       "      <td>Not Graduate</td>\n",
       "      <td>No</td>\n",
       "      <td>2583</td>\n",
       "      <td>2358.0</td>\n",
       "      <td>120.0</td>\n",
       "      <td>360.0</td>\n",
       "      <td>1.0</td>\n",
       "      <td>Urban</td>\n",
       "      <td>Y</td>\n",
       "    </tr>\n",
       "    <tr>\n",
       "      <th>4</th>\n",
       "      <td>LP001008</td>\n",
       "      <td>Male</td>\n",
       "      <td>No</td>\n",
       "      <td>0</td>\n",
       "      <td>Graduate</td>\n",
       "      <td>No</td>\n",
       "      <td>6000</td>\n",
       "      <td>0.0</td>\n",
       "      <td>141.0</td>\n",
       "      <td>360.0</td>\n",
       "      <td>1.0</td>\n",
       "      <td>Urban</td>\n",
       "      <td>Y</td>\n",
       "    </tr>\n",
       "  </tbody>\n",
       "</table>\n",
       "</div>"
      ],
      "text/plain": [
       "    Loan_ID Gender Married Dependents     Education Self_Employed  \\\n",
       "0  LP001002   Male      No          0      Graduate            No   \n",
       "1  LP001003   Male     Yes          1      Graduate            No   \n",
       "2  LP001005   Male     Yes          0      Graduate           Yes   \n",
       "3  LP001006   Male     Yes          0  Not Graduate            No   \n",
       "4  LP001008   Male      No          0      Graduate            No   \n",
       "\n",
       "   ApplicantIncome  CoapplicantIncome  LoanAmount  Loan_Amount_Term  \\\n",
       "0             5849                0.0         NaN             360.0   \n",
       "1             4583             1508.0       128.0             360.0   \n",
       "2             3000                0.0        66.0             360.0   \n",
       "3             2583             2358.0       120.0             360.0   \n",
       "4             6000                0.0       141.0             360.0   \n",
       "\n",
       "   Credit_History Property_Area Loan_Status  \n",
       "0             1.0         Urban           Y  \n",
       "1             1.0         Rural           N  \n",
       "2             1.0         Urban           Y  \n",
       "3             1.0         Urban           Y  \n",
       "4             1.0         Urban           Y  "
      ]
     },
     "execution_count": 2,
     "metadata": {},
     "output_type": "execute_result"
    }
   ],
   "source": [
    "# reading data \n",
    "train_data = pd.read_csv(\"train.csv\")\n",
    "\n",
    "# view first five rows\n",
    "train_data.head()"
   ]
  },
  {
   "cell_type": "code",
   "execution_count": 3,
   "id": "b7d5b03c",
   "metadata": {
    "ExecuteTime": {
     "end_time": "2022-11-03T12:41:03.600154Z",
     "start_time": "2022-11-03T12:41:03.589146Z"
    }
   },
   "outputs": [
    {
     "name": "stdout",
     "output_type": "stream",
     "text": [
      "Number of instances  :: 614\n",
      "Number of attributes :: 13\n"
     ]
    }
   ],
   "source": [
    "# shape of the data\n",
    "print(\"Number of instances  ::\", train_data.shape[0])\n",
    "print(\"Number of attributes ::\", train_data.shape[1])"
   ]
  },
  {
   "cell_type": "code",
   "execution_count": 4,
   "id": "3e6b9c67",
   "metadata": {
    "ExecuteTime": {
     "end_time": "2022-11-03T12:41:03.771650Z",
     "start_time": "2022-11-03T12:41:03.605145Z"
    }
   },
   "outputs": [
    {
     "name": "stdout",
     "output_type": "stream",
     "text": [
      "List of columns::  ['Loan_ID', 'Gender', 'Married', 'Dependents', 'Education', 'Self_Employed', 'ApplicantIncome', 'CoapplicantIncome', 'LoanAmount', 'Loan_Amount_Term', 'Credit_History', 'Property_Area', 'Loan_Status']\n"
     ]
    }
   ],
   "source": [
    "# Columns names.\n",
    "column_list = train_data.columns.tolist()\n",
    "print(\"List of columns:: \", column_list)"
   ]
  },
  {
   "cell_type": "code",
   "execution_count": 5,
   "id": "3efec6bc",
   "metadata": {
    "ExecuteTime": {
     "end_time": "2022-11-03T12:41:03.960553Z",
     "start_time": "2022-11-03T12:41:03.778670Z"
    }
   },
   "outputs": [],
   "source": [
    "# Clean up the column names.\n",
    "\n",
    "# Rename the columns\n",
    "rename_col = {\n",
    "    'ApplicantIncome':'applicant_income',\n",
    "    'CoapplicantIncome':'coapplicant_income',\n",
    "    'LoanAmount':'loan_amount'\n",
    "}\n",
    "\n",
    "train_data.rename(columns=rename_col, inplace=True)\n",
    "train_data.rename(columns={col:col.lower() for col in column_list}, inplace=True)        "
   ]
  },
  {
   "cell_type": "code",
   "execution_count": 6,
   "id": "d6458c8c",
   "metadata": {
    "ExecuteTime": {
     "end_time": "2022-11-03T12:41:04.134040Z",
     "start_time": "2022-11-03T12:41:03.967569Z"
    }
   },
   "outputs": [
    {
     "data": {
      "text/html": [
       "<div>\n",
       "<style scoped>\n",
       "    .dataframe tbody tr th:only-of-type {\n",
       "        vertical-align: middle;\n",
       "    }\n",
       "\n",
       "    .dataframe tbody tr th {\n",
       "        vertical-align: top;\n",
       "    }\n",
       "\n",
       "    .dataframe thead th {\n",
       "        text-align: right;\n",
       "    }\n",
       "</style>\n",
       "<table border=\"1\" class=\"dataframe\">\n",
       "  <thead>\n",
       "    <tr style=\"text-align: right;\">\n",
       "      <th></th>\n",
       "      <th>loan_id</th>\n",
       "      <th>gender</th>\n",
       "      <th>married</th>\n",
       "      <th>dependents</th>\n",
       "      <th>education</th>\n",
       "      <th>self_employed</th>\n",
       "      <th>applicant_income</th>\n",
       "      <th>coapplicant_income</th>\n",
       "      <th>loan_amount</th>\n",
       "      <th>loan_amount_term</th>\n",
       "      <th>credit_history</th>\n",
       "      <th>property_area</th>\n",
       "      <th>loan_status</th>\n",
       "    </tr>\n",
       "  </thead>\n",
       "  <tbody>\n",
       "    <tr>\n",
       "      <th>0</th>\n",
       "      <td>LP001002</td>\n",
       "      <td>Male</td>\n",
       "      <td>No</td>\n",
       "      <td>0</td>\n",
       "      <td>Graduate</td>\n",
       "      <td>No</td>\n",
       "      <td>5849</td>\n",
       "      <td>0.0</td>\n",
       "      <td>NaN</td>\n",
       "      <td>360.0</td>\n",
       "      <td>1.0</td>\n",
       "      <td>Urban</td>\n",
       "      <td>Y</td>\n",
       "    </tr>\n",
       "    <tr>\n",
       "      <th>1</th>\n",
       "      <td>LP001003</td>\n",
       "      <td>Male</td>\n",
       "      <td>Yes</td>\n",
       "      <td>1</td>\n",
       "      <td>Graduate</td>\n",
       "      <td>No</td>\n",
       "      <td>4583</td>\n",
       "      <td>1508.0</td>\n",
       "      <td>128.0</td>\n",
       "      <td>360.0</td>\n",
       "      <td>1.0</td>\n",
       "      <td>Rural</td>\n",
       "      <td>N</td>\n",
       "    </tr>\n",
       "    <tr>\n",
       "      <th>2</th>\n",
       "      <td>LP001005</td>\n",
       "      <td>Male</td>\n",
       "      <td>Yes</td>\n",
       "      <td>0</td>\n",
       "      <td>Graduate</td>\n",
       "      <td>Yes</td>\n",
       "      <td>3000</td>\n",
       "      <td>0.0</td>\n",
       "      <td>66.0</td>\n",
       "      <td>360.0</td>\n",
       "      <td>1.0</td>\n",
       "      <td>Urban</td>\n",
       "      <td>Y</td>\n",
       "    </tr>\n",
       "    <tr>\n",
       "      <th>3</th>\n",
       "      <td>LP001006</td>\n",
       "      <td>Male</td>\n",
       "      <td>Yes</td>\n",
       "      <td>0</td>\n",
       "      <td>Not Graduate</td>\n",
       "      <td>No</td>\n",
       "      <td>2583</td>\n",
       "      <td>2358.0</td>\n",
       "      <td>120.0</td>\n",
       "      <td>360.0</td>\n",
       "      <td>1.0</td>\n",
       "      <td>Urban</td>\n",
       "      <td>Y</td>\n",
       "    </tr>\n",
       "    <tr>\n",
       "      <th>4</th>\n",
       "      <td>LP001008</td>\n",
       "      <td>Male</td>\n",
       "      <td>No</td>\n",
       "      <td>0</td>\n",
       "      <td>Graduate</td>\n",
       "      <td>No</td>\n",
       "      <td>6000</td>\n",
       "      <td>0.0</td>\n",
       "      <td>141.0</td>\n",
       "      <td>360.0</td>\n",
       "      <td>1.0</td>\n",
       "      <td>Urban</td>\n",
       "      <td>Y</td>\n",
       "    </tr>\n",
       "  </tbody>\n",
       "</table>\n",
       "</div>"
      ],
      "text/plain": [
       "    loan_id gender married dependents     education self_employed  \\\n",
       "0  LP001002   Male      No          0      Graduate            No   \n",
       "1  LP001003   Male     Yes          1      Graduate            No   \n",
       "2  LP001005   Male     Yes          0      Graduate           Yes   \n",
       "3  LP001006   Male     Yes          0  Not Graduate            No   \n",
       "4  LP001008   Male      No          0      Graduate            No   \n",
       "\n",
       "   applicant_income  coapplicant_income  loan_amount  loan_amount_term  \\\n",
       "0              5849                 0.0          NaN             360.0   \n",
       "1              4583              1508.0        128.0             360.0   \n",
       "2              3000                 0.0         66.0             360.0   \n",
       "3              2583              2358.0        120.0             360.0   \n",
       "4              6000                 0.0        141.0             360.0   \n",
       "\n",
       "   credit_history property_area loan_status  \n",
       "0             1.0         Urban           Y  \n",
       "1             1.0         Rural           N  \n",
       "2             1.0         Urban           Y  \n",
       "3             1.0         Urban           Y  \n",
       "4             1.0         Urban           Y  "
      ]
     },
     "execution_count": 6,
     "metadata": {},
     "output_type": "execute_result"
    }
   ],
   "source": [
    "# view\n",
    "train_data.head()"
   ]
  },
  {
   "cell_type": "code",
   "execution_count": 7,
   "id": "0f4f1fe3",
   "metadata": {
    "ExecuteTime": {
     "end_time": "2022-11-03T12:41:04.445041Z",
     "start_time": "2022-11-03T12:41:04.149056Z"
    }
   },
   "outputs": [
    {
     "data": {
      "text/plain": [
       "0"
      ]
     },
     "execution_count": 7,
     "metadata": {},
     "output_type": "execute_result"
    }
   ],
   "source": [
    "# Check if there is any duplicate records present in the data\n",
    "train_data.duplicated().sum()"
   ]
  },
  {
   "cell_type": "code",
   "execution_count": 8,
   "id": "84b88c9c",
   "metadata": {
    "ExecuteTime": {
     "end_time": "2022-11-03T12:41:04.460068Z",
     "start_time": "2022-11-03T12:41:04.449071Z"
    }
   },
   "outputs": [
    {
     "data": {
      "text/plain": [
       "loan_id                object\n",
       "gender                 object\n",
       "married                object\n",
       "dependents             object\n",
       "education              object\n",
       "self_employed          object\n",
       "applicant_income        int64\n",
       "coapplicant_income    float64\n",
       "loan_amount           float64\n",
       "loan_amount_term      float64\n",
       "credit_history        float64\n",
       "property_area          object\n",
       "loan_status            object\n",
       "dtype: object"
      ]
     },
     "execution_count": 8,
     "metadata": {},
     "output_type": "execute_result"
    }
   ],
   "source": [
    "# Check the datatypes.\n",
    "train_data.dtypes"
   ]
  },
  {
   "cell_type": "code",
   "execution_count": 9,
   "id": "96b3e447",
   "metadata": {
    "ExecuteTime": {
     "end_time": "2022-11-03T12:41:04.677829Z",
     "start_time": "2022-11-03T12:41:04.463084Z"
    },
    "scrolled": true
   },
   "outputs": [
    {
     "name": "stdout",
     "output_type": "stream",
     "text": [
      "GENDER :: ['Male' 'Female' nan]\n",
      "Male      489\n",
      "Female    112\n",
      "Name: gender, dtype: int64\n",
      "------------------------------\n",
      "MARRIED :: ['No' 'Yes' nan]\n",
      "Yes    398\n",
      "No     213\n",
      "Name: married, dtype: int64\n",
      "------------------------------\n",
      "DEPENDENTS :: ['0' '1' '2' '3+' nan]\n",
      "0     345\n",
      "1     102\n",
      "2     101\n",
      "3+     51\n",
      "Name: dependents, dtype: int64\n",
      "------------------------------\n",
      "EDUCATION :: ['Graduate' 'Not Graduate']\n",
      "Graduate        480\n",
      "Not Graduate    134\n",
      "Name: education, dtype: int64\n",
      "------------------------------\n",
      "SELF_EMPLOYED :: ['No' 'Yes' nan]\n",
      "No     500\n",
      "Yes     82\n",
      "Name: self_employed, dtype: int64\n",
      "------------------------------\n",
      "CREDIT_HISTORY :: [ 1.  0. nan]\n",
      "1.0    475\n",
      "0.0     89\n",
      "Name: credit_history, dtype: int64\n",
      "------------------------------\n",
      "PROPERTY_AREA :: ['Urban' 'Rural' 'Semiurban']\n",
      "Semiurban    233\n",
      "Urban        202\n",
      "Rural        179\n",
      "Name: property_area, dtype: int64\n",
      "------------------------------\n",
      "LOAN_STATUS :: ['Y' 'N']\n",
      "Y    422\n",
      "N    192\n",
      "Name: loan_status, dtype: int64\n",
      "------------------------------\n"
     ]
    }
   ],
   "source": [
    "# Check the unique values in categorical data.\n",
    "categorical_cols = ['gender', \n",
    "                    'married', \n",
    "                    'dependents', \n",
    "                    'education', \n",
    "                    'self_employed', \n",
    "                    'credit_history', \n",
    "                    'property_area', \n",
    "                    'loan_status'\n",
    "                    ]\n",
    "\n",
    "for col in categorical_cols:\n",
    "    print(f\"{col.upper()} :: {train_data[col].unique()}\")\n",
    "    print(train_data[col].value_counts())\n",
    "    print(\"---\"*10)"
   ]
  },
  {
   "cell_type": "code",
   "execution_count": 10,
   "id": "e8e43e85",
   "metadata": {
    "ExecuteTime": {
     "end_time": "2022-11-03T12:41:05.020908Z",
     "start_time": "2022-11-03T12:41:04.681850Z"
    }
   },
   "outputs": [],
   "source": [
    "\"\"\"\n",
    "Let's change the case of string values in categorical columns in lower case and replace space if any with underscore(_).\n",
    "& change the data type of those columns from `object` to `category`. \n",
    "\"\"\"\n",
    "\n",
    "for col in categorical_cols:\n",
    "    try:\n",
    "        train_data[col] = train_data[col].str.lower().str.replace(\" \", \"_\")\n",
    "        train_data[col] = train_data[col].astype('category')                 # Type casting\n",
    "    except AttributeError:\n",
    "        pass"
   ]
  },
  {
   "cell_type": "code",
   "execution_count": 11,
   "id": "89c07495",
   "metadata": {
    "ExecuteTime": {
     "end_time": "2022-11-03T12:41:05.036902Z",
     "start_time": "2022-11-03T12:41:05.024901Z"
    }
   },
   "outputs": [
    {
     "data": {
      "text/plain": [
       "loan_id                 object\n",
       "gender                category\n",
       "married               category\n",
       "dependents            category\n",
       "education             category\n",
       "self_employed         category\n",
       "applicant_income         int64\n",
       "coapplicant_income     float64\n",
       "loan_amount            float64\n",
       "loan_amount_term       float64\n",
       "credit_history         float64\n",
       "property_area         category\n",
       "loan_status           category\n",
       "dtype: object"
      ]
     },
     "execution_count": 11,
     "metadata": {},
     "output_type": "execute_result"
    }
   ],
   "source": [
    "# view\n",
    "train_data.dtypes"
   ]
  },
  {
   "cell_type": "code",
   "execution_count": 12,
   "id": "70c7005f",
   "metadata": {
    "ExecuteTime": {
     "end_time": "2022-11-03T12:41:05.244165Z",
     "start_time": "2022-11-03T12:41:05.046900Z"
    }
   },
   "outputs": [
    {
     "data": {
      "text/html": [
       "<div>\n",
       "<style scoped>\n",
       "    .dataframe tbody tr th:only-of-type {\n",
       "        vertical-align: middle;\n",
       "    }\n",
       "\n",
       "    .dataframe tbody tr th {\n",
       "        vertical-align: top;\n",
       "    }\n",
       "\n",
       "    .dataframe thead th {\n",
       "        text-align: right;\n",
       "    }\n",
       "</style>\n",
       "<table border=\"1\" class=\"dataframe\">\n",
       "  <thead>\n",
       "    <tr style=\"text-align: right;\">\n",
       "      <th></th>\n",
       "      <th>loan_id</th>\n",
       "      <th>gender</th>\n",
       "      <th>married</th>\n",
       "      <th>dependents</th>\n",
       "      <th>education</th>\n",
       "      <th>self_employed</th>\n",
       "      <th>applicant_income</th>\n",
       "      <th>coapplicant_income</th>\n",
       "      <th>loan_amount</th>\n",
       "      <th>loan_amount_term</th>\n",
       "      <th>credit_history</th>\n",
       "      <th>property_area</th>\n",
       "      <th>loan_status</th>\n",
       "    </tr>\n",
       "  </thead>\n",
       "  <tbody>\n",
       "    <tr>\n",
       "      <th>0</th>\n",
       "      <td>LP001002</td>\n",
       "      <td>male</td>\n",
       "      <td>no</td>\n",
       "      <td>0</td>\n",
       "      <td>graduate</td>\n",
       "      <td>no</td>\n",
       "      <td>5849</td>\n",
       "      <td>0.0</td>\n",
       "      <td>NaN</td>\n",
       "      <td>360.0</td>\n",
       "      <td>1.0</td>\n",
       "      <td>urban</td>\n",
       "      <td>y</td>\n",
       "    </tr>\n",
       "    <tr>\n",
       "      <th>1</th>\n",
       "      <td>LP001003</td>\n",
       "      <td>male</td>\n",
       "      <td>yes</td>\n",
       "      <td>1</td>\n",
       "      <td>graduate</td>\n",
       "      <td>no</td>\n",
       "      <td>4583</td>\n",
       "      <td>1508.0</td>\n",
       "      <td>128.0</td>\n",
       "      <td>360.0</td>\n",
       "      <td>1.0</td>\n",
       "      <td>rural</td>\n",
       "      <td>n</td>\n",
       "    </tr>\n",
       "    <tr>\n",
       "      <th>2</th>\n",
       "      <td>LP001005</td>\n",
       "      <td>male</td>\n",
       "      <td>yes</td>\n",
       "      <td>0</td>\n",
       "      <td>graduate</td>\n",
       "      <td>yes</td>\n",
       "      <td>3000</td>\n",
       "      <td>0.0</td>\n",
       "      <td>66.0</td>\n",
       "      <td>360.0</td>\n",
       "      <td>1.0</td>\n",
       "      <td>urban</td>\n",
       "      <td>y</td>\n",
       "    </tr>\n",
       "    <tr>\n",
       "      <th>3</th>\n",
       "      <td>LP001006</td>\n",
       "      <td>male</td>\n",
       "      <td>yes</td>\n",
       "      <td>0</td>\n",
       "      <td>not_graduate</td>\n",
       "      <td>no</td>\n",
       "      <td>2583</td>\n",
       "      <td>2358.0</td>\n",
       "      <td>120.0</td>\n",
       "      <td>360.0</td>\n",
       "      <td>1.0</td>\n",
       "      <td>urban</td>\n",
       "      <td>y</td>\n",
       "    </tr>\n",
       "    <tr>\n",
       "      <th>4</th>\n",
       "      <td>LP001008</td>\n",
       "      <td>male</td>\n",
       "      <td>no</td>\n",
       "      <td>0</td>\n",
       "      <td>graduate</td>\n",
       "      <td>no</td>\n",
       "      <td>6000</td>\n",
       "      <td>0.0</td>\n",
       "      <td>141.0</td>\n",
       "      <td>360.0</td>\n",
       "      <td>1.0</td>\n",
       "      <td>urban</td>\n",
       "      <td>y</td>\n",
       "    </tr>\n",
       "  </tbody>\n",
       "</table>\n",
       "</div>"
      ],
      "text/plain": [
       "    loan_id gender married dependents     education self_employed  \\\n",
       "0  LP001002   male      no          0      graduate            no   \n",
       "1  LP001003   male     yes          1      graduate            no   \n",
       "2  LP001005   male     yes          0      graduate           yes   \n",
       "3  LP001006   male     yes          0  not_graduate            no   \n",
       "4  LP001008   male      no          0      graduate            no   \n",
       "\n",
       "   applicant_income  coapplicant_income  loan_amount  loan_amount_term  \\\n",
       "0              5849                 0.0          NaN             360.0   \n",
       "1              4583              1508.0        128.0             360.0   \n",
       "2              3000                 0.0         66.0             360.0   \n",
       "3              2583              2358.0        120.0             360.0   \n",
       "4              6000                 0.0        141.0             360.0   \n",
       "\n",
       "   credit_history property_area loan_status  \n",
       "0             1.0         urban           y  \n",
       "1             1.0         rural           n  \n",
       "2             1.0         urban           y  \n",
       "3             1.0         urban           y  \n",
       "4             1.0         urban           y  "
      ]
     },
     "execution_count": 12,
     "metadata": {},
     "output_type": "execute_result"
    }
   ],
   "source": [
    "train_data.head()"
   ]
  },
  {
   "cell_type": "code",
   "execution_count": 13,
   "id": "76b9207d",
   "metadata": {
    "ExecuteTime": {
     "end_time": "2022-11-03T12:41:05.430683Z",
     "start_time": "2022-11-03T12:41:05.248162Z"
    }
   },
   "outputs": [
    {
     "data": {
      "text/plain": [
       "loan_id                0\n",
       "gender                13\n",
       "married                3\n",
       "dependents            15\n",
       "education              0\n",
       "self_employed         32\n",
       "applicant_income       0\n",
       "coapplicant_income     0\n",
       "loan_amount           22\n",
       "loan_amount_term      14\n",
       "credit_history        50\n",
       "property_area          0\n",
       "loan_status            0\n",
       "dtype: int64"
      ]
     },
     "execution_count": 13,
     "metadata": {},
     "output_type": "execute_result"
    }
   ],
   "source": [
    "# Let's check for missing data.\n",
    "train_data.isnull().sum()"
   ]
  },
  {
   "cell_type": "code",
   "execution_count": 14,
   "id": "7fab8845",
   "metadata": {
    "ExecuteTime": {
     "end_time": "2022-11-03T12:41:06.354057Z",
     "start_time": "2022-11-03T12:41:05.436693Z"
    }
   },
   "outputs": [
    {
     "data": {
      "image/png": "[encoded data removed]",
      "text/plain": [
       "<Figure size 420x350 with 1 Axes>"
      ]
     },
     "metadata": {},
     "output_type": "display_data"
    }
   ],
   "source": [
    "# Response variable - loan_status\n",
    "\n",
    "# visualization\n",
    "(train_data['loan_status'].value_counts() * 100 / len(train_data)).plot(kind='bar')\n",
    "\n",
    "# labels\n",
    "plt.xlabel(\"Loan Status\", size=10)\n",
    "plt.ylabel(\"Percentage\", size=10)\n",
    "plt.title(\"Imbalanced class distribution in response variable\", size=10)\n",
    "\n",
    "plt.xticks(ticks=[0, 1], labels=['yes', 'no'], rotation=0)\n",
    "plt.show()"
   ]
  },
  {
   "cell_type": "code",
   "execution_count": 15,
   "id": "ab92cead",
   "metadata": {
    "ExecuteTime": {
     "end_time": "2022-11-03T12:41:06.369138Z",
     "start_time": "2022-11-03T12:41:06.358074Z"
    }
   },
   "outputs": [],
   "source": [
    "# Correlation analysis\n",
    "def compute_chi2(column):\n",
    "    \"\"\"\n",
    "    compute_corr(column1):\n",
    "        function to compute the correlation between the categorical variable and response variale(y)\n",
    "    \n",
    "    \"\"\"\n",
    "    threshold = 0.05\n",
    "    ct = pd.crosstab(train_data[column], train_data['loan_status'])    \n",
    "    result = stats.chi2_contingency(ct)\n",
    "    \n",
    "    p_value = result[1]\n",
    "    \n",
    "    if p_value < threshold:\n",
    "        return \"P-value=%f; The null hypothesis is rejected; %s & loan_status are dependent\" % (p_value, column)\n",
    "    return \"P-value=%f; The null hypothesis is accepted; %s & loan_status are not dependent\" % (p_value, column)\n"
   ]
  },
  {
   "cell_type": "code",
   "execution_count": 16,
   "id": "311063f5",
   "metadata": {
    "ExecuteTime": {
     "end_time": "2022-11-03T12:41:07.160290Z",
     "start_time": "2022-11-03T12:41:06.373157Z"
    },
    "scrolled": true
   },
   "outputs": [
    {
     "data": {
      "image/png": "[encoded data removed]",
      "text/plain": [
       "<Figure size 1008x360 with 2 Axes>"
      ]
     },
     "metadata": {},
     "output_type": "display_data"
    }
   ],
   "source": [
    "# Gender \n",
    "\"\"\"Let's find if the `gender` of the applicant is matter in loan approval.\"\"\"\n",
    "fig, (ax1, ax2) = plt.subplots(nrows=1, ncols=2, figsize=(14, 5), dpi=72)\n",
    "\n",
    "# Data preparation\n",
    "a = train_data['gender'].value_counts() * 100 / len(train_data)  \n",
    "b = train_data.groupby(by=['gender', 'loan_status']).count()['loan_id'] * 100 / train_data.groupby(by=['gender']).count()['loan_id']\n",
    "\n",
    "# Visualizations\n",
    "# plot-1\n",
    "a.plot(kind='bar', ax=ax1) \n",
    "\n",
    "ax1.set_title(\"Distribution of applicants by gender\", size=10)\n",
    "ax1.set_xlabel(\"gender\", size=10)\n",
    "ax1.set_ylabel(\"percentage\", size=10)\n",
    "\n",
    "ax1.set_xticks(ticks=[0, 1], labels=['male', 'female'], rotation=0)\n",
    "\n",
    "# plot-2\n",
    "b.unstack().plot(kind='bar', ax=ax2)\n",
    "\n",
    "ax2.set_title(\"Rate of loan approval by gender\", size=10)\n",
    "ax2.set_xlabel(\"gender\", size=10)\n",
    "ax2.set_ylabel(\"percentage\", size=10)\n",
    "\n",
    "ax2.legend(labels=['no', 'yes'], title='loan_status')\n",
    "ax2.set_xticks(ticks=[0, 1], labels=['male', 'female'], rotation=0)\n",
    "\n",
    "plt.show()"
   ]
  },
  {
   "cell_type": "markdown",
   "id": "90f5af17",
   "metadata": {},
   "source": [
    "Above plot shows that, There is huge difference between the male and female applicant for loan. However, the second plot shows that, rate of accepting or rejecting the loan application for home is almost same for both male and female applicant, hence we can say that, the approval of loan does not depend on the gender of the applicant. Let's confirm this finding by performing hypothesis test. "
   ]
  },
  {
   "cell_type": "code",
   "execution_count": 17,
   "id": "f2c960f5",
   "metadata": {
    "ExecuteTime": {
     "end_time": "2022-11-03T12:41:07.240309Z",
     "start_time": "2022-11-03T12:41:07.163299Z"
    },
    "scrolled": true
   },
   "outputs": [
    {
     "data": {
      "text/plain": [
       "'P-value=0.708653; The null hypothesis is accepted; gender & loan_status are not dependent'"
      ]
     },
     "execution_count": 17,
     "metadata": {},
     "output_type": "execute_result"
    }
   ],
   "source": [
    "# Hypothesis test - 'Gender' vs. 'Loan status'\n",
    "\"\"\" Let's perform a hypothesis test using chi square to find if the `gender` of the applicant is matter in loan approval.\n",
    "    H0(null hypothesis): The gender of the applicant does not matter.\n",
    "    H1(alternative hypothesis): The gender of the applicant is matter.\n",
    "\"\"\"\n",
    "compute_chi2('gender')"
   ]
  },
  {
   "cell_type": "markdown",
   "id": "415c7da1",
   "metadata": {},
   "source": [
    "From the above hypothesis test, we can say that the acceptance or rejections of the loan of particular applicant does not depends on their gender."
   ]
  },
  {
   "cell_type": "code",
   "execution_count": 18,
   "id": "2f932404",
   "metadata": {
    "ExecuteTime": {
     "end_time": "2022-11-03T12:41:07.557343Z",
     "start_time": "2022-11-03T12:41:07.243299Z"
    }
   },
   "outputs": [
    {
     "data": {
      "image/png": "[encoded data removed]",
      "text/plain": [
       "<Figure size 420x350 with 1 Axes>"
      ]
     },
     "metadata": {},
     "output_type": "display_data"
    }
   ],
   "source": [
    "# Let's find the relation between credit history and loan status.\n",
    "# data preparation\n",
    "a = train_data.groupby(by=['credit_history', 'loan_status']).count()['loan_id']* 100 / train_data.groupby(by=['credit_history']).count()['loan_id']\n",
    "\n",
    "# plot\n",
    "a.unstack().plot(kind='bar')\n",
    "\n",
    "plt.title('Loan approval rate by credit history',size=12)\n",
    "plt.xlabel('credit history', size=12)\n",
    "plt.ylabel('percentage', size=12)\n",
    "\n",
    "plt.xticks(ticks=[0, 1], labels=[0, 1], rotation=0)\n",
    "plt.legend(labels=['no', 'yes'], title='loan_status')\n",
    "plt.show()"
   ]
  },
  {
   "cell_type": "markdown",
   "id": "863fcb55",
   "metadata": {},
   "source": [
    "The above plot shows high rate of loan rejection for applicant with no credit history, and high rate of loan approval for applicant with credit history. We can say that, there is higher chances for loan rejection if an applicant does not have a credit history as compare to the applicant with credit history.\n",
    "\n",
    "So, we can say that, loan approval is depends on applicant's credit history. Again, we can confirm this finding by computing the chi square hypothesis test."
   ]
  },
  {
   "cell_type": "code",
   "execution_count": 19,
   "id": "da470983",
   "metadata": {
    "ExecuteTime": {
     "end_time": "2022-11-03T12:41:07.589343Z",
     "start_time": "2022-11-03T12:41:07.560334Z"
    }
   },
   "outputs": [
    {
     "data": {
      "text/plain": [
       "'P-value=0.000000; The null hypothesis is rejected; credit_history & loan_status are dependent'"
      ]
     },
     "execution_count": 19,
     "metadata": {},
     "output_type": "execute_result"
    }
   ],
   "source": [
    "# Hypothesis test - 'Credit history' vs. 'Loan status'\n",
    "\"\"\"Let's find out if there is any dependency between credit-history and loan approval.\"\"\"\n",
    "compute_chi2('credit_history')"
   ]
  },
  {
   "cell_type": "markdown",
   "id": "71f0a184",
   "metadata": {},
   "source": [
    "From the above hypothesis test, we can say that loan approval depends on credit history."
   ]
  },
  {
   "cell_type": "code",
   "execution_count": 20,
   "id": "b4945812",
   "metadata": {
    "ExecuteTime": {
     "end_time": "2022-11-03T12:41:07.950563Z",
     "start_time": "2022-11-03T12:41:07.592332Z"
    }
   },
   "outputs": [
    {
     "data": {
      "image/png": "[encoded data removed]",
      "text/plain": [
       "<Figure size 420x350 with 1 Axes>"
      ]
     },
     "metadata": {},
     "output_type": "display_data"
    }
   ],
   "source": [
    "# Let's find the relation between education and loan status.\n",
    "# data preparation\n",
    "a = train_data.groupby(by=['education', 'loan_status']).count()['loan_id']* 100 / train_data.groupby(by=['education']).count()['loan_id']\n",
    "\n",
    "# plot\n",
    "a.unstack().plot(kind='bar')\n",
    "\n",
    "plt.title('Loan approval rate by education qualification',size=12)\n",
    "plt.xlabel('education', size=12)\n",
    "plt.ylabel('percentage', size=12)\n",
    "\n",
    "plt.xticks(ticks=[0, 1], rotation=0)\n",
    "plt.legend(labels=['no', 'yes'], title='loan_status')\n",
    "plt.show()"
   ]
  },
  {
   "cell_type": "markdown",
   "id": "b6f2cab1",
   "metadata": {},
   "source": [
    "Above plot shows small difference for rejecting and accepting loan application by education of an applicant. However, The rate of approval for graduate applicant is higher than the non-graduate applicant. Let's find out if loan approval depends on education of an applicant by hypothesis test."
   ]
  },
  {
   "cell_type": "code",
   "execution_count": 21,
   "id": "bf4594f9",
   "metadata": {
    "ExecuteTime": {
     "end_time": "2022-11-03T12:41:07.981571Z",
     "start_time": "2022-11-03T12:41:07.954571Z"
    }
   },
   "outputs": [
    {
     "data": {
      "text/plain": [
       "'P-value=0.043100; The null hypothesis is rejected; education & loan_status are dependent'"
      ]
     },
     "execution_count": 21,
     "metadata": {},
     "output_type": "execute_result"
    }
   ],
   "source": [
    "# Hypothesis test - 'Education' vs. 'Loan status'\n",
    "\"\"\" Let's find out if there is any effect of educational background on loan approval. \"\"\"\n",
    "compute_chi2('education')"
   ]
  },
  {
   "cell_type": "markdown",
   "id": "ec1b1f92",
   "metadata": {},
   "source": [
    "The above hypothesis test says that, loan approval depends on education of an applicant."
   ]
  },
  {
   "cell_type": "code",
   "execution_count": 22,
   "id": "e6dd4c29",
   "metadata": {
    "ExecuteTime": {
     "end_time": "2022-11-03T12:41:08.361634Z",
     "start_time": "2022-11-03T12:41:07.984570Z"
    }
   },
   "outputs": [
    {
     "data": {
      "image/png": "[encoded data removed]",
      "text/plain": [
       "<Figure size 420x350 with 1 Axes>"
      ]
     },
     "metadata": {},
     "output_type": "display_data"
    }
   ],
   "source": [
    "# property_area and loan status\n",
    "# data preparation\n",
    "a = train_data.groupby(by=['property_area', 'loan_status']).count()['loan_id']* 100 / train_data.groupby(by=['property_area']).count()['loan_id']\n",
    "\n",
    "# plot\n",
    "a.unstack().plot(kind='bar')\n",
    "\n",
    "plt.title('Loan approval rate by type of property area',size=12)\n",
    "plt.xlabel('property area', size=12)\n",
    "plt.ylabel('percentage', size=12)\n",
    "\n",
    "plt.xticks(ticks=[0, 1, 2], rotation=0)\n",
    "plt.legend(labels=['no', 'yes'], title='loan_status')\n",
    "plt.show()"
   ]
  },
  {
   "cell_type": "markdown",
   "id": "c9ae6237",
   "metadata": {},
   "source": [
    "We can see that, the home loan approval rate for `semi-urban` property area is higher than other two property areas. "
   ]
  },
  {
   "cell_type": "code",
   "execution_count": 23,
   "id": "c7f67788",
   "metadata": {
    "ExecuteTime": {
     "end_time": "2022-11-03T12:41:08.551252Z",
     "start_time": "2022-11-03T12:41:08.365644Z"
    }
   },
   "outputs": [],
   "source": [
    "# Correation between for categorical variables and loan status\n",
    "scores = []\n",
    "label = 'loan_status'\n",
    "for col in categorical_cols[:-1]:\n",
    "    threshold = 0.05\n",
    "    ct = pd.crosstab(train_data[col], train_data[label])    \n",
    "    result = stats.chi2_contingency(ct)\n",
    "    scores.append((label, col, result[0], round(result[1], 5)))    "
   ]
  },
  {
   "cell_type": "code",
   "execution_count": 24,
   "id": "e812932f",
   "metadata": {
    "ExecuteTime": {
     "end_time": "2022-11-03T12:41:09.187922Z",
     "start_time": "2022-11-03T12:41:08.554242Z"
    }
   },
   "outputs": [
    {
     "data": {
      "text/html": [
       "<style type=\"text/css\">\n",
       "#T_61abd_row1_col3, #T_61abd_row3_col3, #T_61abd_row4_col2, #T_61abd_row5_col3, #T_61abd_row6_col3 {\n",
       "  background-color: skyblue;\n",
       "}\n",
       "</style>\n",
       "<table id=\"T_61abd\">\n",
       "  <thead>\n",
       "    <tr>\n",
       "      <th class=\"blank level0\" >&nbsp;</th>\n",
       "      <th id=\"T_61abd_level0_col0\" class=\"col_heading level0 col0\" >target</th>\n",
       "      <th id=\"T_61abd_level0_col1\" class=\"col_heading level0 col1\" >cat_feature</th>\n",
       "      <th id=\"T_61abd_level0_col2\" class=\"col_heading level0 col2\" >chi2_stats</th>\n",
       "      <th id=\"T_61abd_level0_col3\" class=\"col_heading level0 col3\" >p-value</th>\n",
       "    </tr>\n",
       "  </thead>\n",
       "  <tbody>\n",
       "    <tr>\n",
       "      <th id=\"T_61abd_level0_row0\" class=\"row_heading level0 row0\" >0</th>\n",
       "      <td id=\"T_61abd_row0_col0\" class=\"data row0 col0\" >loan_status</td>\n",
       "      <td id=\"T_61abd_row0_col1\" class=\"data row0 col1\" >gender</td>\n",
       "      <td id=\"T_61abd_row0_col2\" class=\"data row0 col2\" >0.139626</td>\n",
       "      <td id=\"T_61abd_row0_col3\" class=\"data row0 col3\" >0.708650</td>\n",
       "    </tr>\n",
       "    <tr>\n",
       "      <th id=\"T_61abd_level0_row1\" class=\"row_heading level0 row1\" >1</th>\n",
       "      <td id=\"T_61abd_row1_col0\" class=\"data row1 col0\" >loan_status</td>\n",
       "      <td id=\"T_61abd_row1_col1\" class=\"data row1 col1\" >married</td>\n",
       "      <td id=\"T_61abd_row1_col2\" class=\"data row1 col2\" >4.475019</td>\n",
       "      <td id=\"T_61abd_row1_col3\" class=\"data row1 col3\" >0.034390</td>\n",
       "    </tr>\n",
       "    <tr>\n",
       "      <th id=\"T_61abd_level0_row2\" class=\"row_heading level0 row2\" >2</th>\n",
       "      <td id=\"T_61abd_row2_col0\" class=\"data row2 col0\" >loan_status</td>\n",
       "      <td id=\"T_61abd_row2_col1\" class=\"data row2 col1\" >dependents</td>\n",
       "      <td id=\"T_61abd_row2_col2\" class=\"data row2 col2\" >3.158340</td>\n",
       "      <td id=\"T_61abd_row2_col3\" class=\"data row2 col3\" >0.367850</td>\n",
       "    </tr>\n",
       "    <tr>\n",
       "      <th id=\"T_61abd_level0_row3\" class=\"row_heading level0 row3\" >3</th>\n",
       "      <td id=\"T_61abd_row3_col0\" class=\"data row3 col0\" >loan_status</td>\n",
       "      <td id=\"T_61abd_row3_col1\" class=\"data row3 col1\" >education</td>\n",
       "      <td id=\"T_61abd_row3_col2\" class=\"data row3 col2\" >4.091490</td>\n",
       "      <td id=\"T_61abd_row3_col3\" class=\"data row3 col3\" >0.043100</td>\n",
       "    </tr>\n",
       "    <tr>\n",
       "      <th id=\"T_61abd_level0_row4\" class=\"row_heading level0 row4\" >4</th>\n",
       "      <td id=\"T_61abd_row4_col0\" class=\"data row4 col0\" >loan_status</td>\n",
       "      <td id=\"T_61abd_row4_col1\" class=\"data row4 col1\" >self_employed</td>\n",
       "      <td id=\"T_61abd_row4_col2\" class=\"data row4 col2\" >0.000000</td>\n",
       "      <td id=\"T_61abd_row4_col3\" class=\"data row4 col3\" >1.000000</td>\n",
       "    </tr>\n",
       "    <tr>\n",
       "      <th id=\"T_61abd_level0_row5\" class=\"row_heading level0 row5\" >5</th>\n",
       "      <td id=\"T_61abd_row5_col0\" class=\"data row5 col0\" >loan_status</td>\n",
       "      <td id=\"T_61abd_row5_col1\" class=\"data row5 col1\" >credit_history</td>\n",
       "      <td id=\"T_61abd_row5_col2\" class=\"data row5 col2\" >174.637297</td>\n",
       "      <td id=\"T_61abd_row5_col3\" class=\"data row5 col3\" >0.000000</td>\n",
       "    </tr>\n",
       "    <tr>\n",
       "      <th id=\"T_61abd_level0_row6\" class=\"row_heading level0 row6\" >6</th>\n",
       "      <td id=\"T_61abd_row6_col0\" class=\"data row6 col0\" >loan_status</td>\n",
       "      <td id=\"T_61abd_row6_col1\" class=\"data row6 col1\" >property_area</td>\n",
       "      <td id=\"T_61abd_row6_col2\" class=\"data row6 col2\" >12.297623</td>\n",
       "      <td id=\"T_61abd_row6_col3\" class=\"data row6 col3\" >0.002140</td>\n",
       "    </tr>\n",
       "  </tbody>\n",
       "</table>\n"
      ],
      "text/plain": [
       "<pandas.io.formats.style.Styler at 0x21e77596a00>"
      ]
     },
     "execution_count": 24,
     "metadata": {},
     "output_type": "execute_result"
    }
   ],
   "source": [
    "corr_df = pd.DataFrame(scores, columns=['target', 'cat_feature', 'chi2_stats', 'p-value'])\n",
    "corr_df.style.highlight_between(subset=['chi2_stats', 'p-value'], left=-1, right=0.05, color='skyblue')"
   ]
  },
  {
   "cell_type": "code",
   "execution_count": 25,
   "id": "48538538",
   "metadata": {
    "ExecuteTime": {
     "end_time": "2022-11-03T12:41:09.296990Z",
     "start_time": "2022-11-03T12:41:09.191906Z"
    }
   },
   "outputs": [
    {
     "data": {
      "text/html": [
       "<div>\n",
       "<style scoped>\n",
       "    .dataframe tbody tr th:only-of-type {\n",
       "        vertical-align: middle;\n",
       "    }\n",
       "\n",
       "    .dataframe tbody tr th {\n",
       "        vertical-align: top;\n",
       "    }\n",
       "\n",
       "    .dataframe thead tr th {\n",
       "        text-align: left;\n",
       "    }\n",
       "</style>\n",
       "<table border=\"1\" class=\"dataframe\">\n",
       "  <thead>\n",
       "    <tr>\n",
       "      <th></th>\n",
       "      <th colspan=\"4\" halign=\"left\">Loan status-yes</th>\n",
       "      <th colspan=\"4\" halign=\"left\">Loan status-No</th>\n",
       "    </tr>\n",
       "    <tr>\n",
       "      <th></th>\n",
       "      <th>applicant_income</th>\n",
       "      <th>coapplicant_income</th>\n",
       "      <th>loan_amount</th>\n",
       "      <th>loan_amount_term</th>\n",
       "      <th>applicant_income</th>\n",
       "      <th>coapplicant_income</th>\n",
       "      <th>loan_amount</th>\n",
       "      <th>loan_amount_term</th>\n",
       "    </tr>\n",
       "  </thead>\n",
       "  <tbody>\n",
       "    <tr>\n",
       "      <th>count</th>\n",
       "      <td>422.00</td>\n",
       "      <td>422.00</td>\n",
       "      <td>411.00</td>\n",
       "      <td>414.00</td>\n",
       "      <td>192.00</td>\n",
       "      <td>192.00</td>\n",
       "      <td>181.00</td>\n",
       "      <td>186.00</td>\n",
       "    </tr>\n",
       "    <tr>\n",
       "      <th>mean</th>\n",
       "      <td>5384.07</td>\n",
       "      <td>1504.52</td>\n",
       "      <td>144.29</td>\n",
       "      <td>341.07</td>\n",
       "      <td>5446.08</td>\n",
       "      <td>1877.81</td>\n",
       "      <td>151.22</td>\n",
       "      <td>344.06</td>\n",
       "    </tr>\n",
       "    <tr>\n",
       "      <th>std</th>\n",
       "      <td>5765.44</td>\n",
       "      <td>1924.75</td>\n",
       "      <td>85.48</td>\n",
       "      <td>63.25</td>\n",
       "      <td>6819.56</td>\n",
       "      <td>4384.06</td>\n",
       "      <td>85.86</td>\n",
       "      <td>69.24</td>\n",
       "    </tr>\n",
       "    <tr>\n",
       "      <th>min</th>\n",
       "      <td>210.00</td>\n",
       "      <td>0.00</td>\n",
       "      <td>17.00</td>\n",
       "      <td>12.00</td>\n",
       "      <td>150.00</td>\n",
       "      <td>0.00</td>\n",
       "      <td>9.00</td>\n",
       "      <td>36.00</td>\n",
       "    </tr>\n",
       "    <tr>\n",
       "      <th>25%</th>\n",
       "      <td>2877.50</td>\n",
       "      <td>0.00</td>\n",
       "      <td>100.00</td>\n",
       "      <td>360.00</td>\n",
       "      <td>2885.00</td>\n",
       "      <td>0.00</td>\n",
       "      <td>100.00</td>\n",
       "      <td>360.00</td>\n",
       "    </tr>\n",
       "    <tr>\n",
       "      <th>50%</th>\n",
       "      <td>3812.50</td>\n",
       "      <td>1239.50</td>\n",
       "      <td>126.00</td>\n",
       "      <td>360.00</td>\n",
       "      <td>3833.50</td>\n",
       "      <td>268.00</td>\n",
       "      <td>129.00</td>\n",
       "      <td>360.00</td>\n",
       "    </tr>\n",
       "    <tr>\n",
       "      <th>75%</th>\n",
       "      <td>5771.50</td>\n",
       "      <td>2297.25</td>\n",
       "      <td>161.00</td>\n",
       "      <td>360.00</td>\n",
       "      <td>5861.25</td>\n",
       "      <td>2273.75</td>\n",
       "      <td>176.00</td>\n",
       "      <td>360.00</td>\n",
       "    </tr>\n",
       "    <tr>\n",
       "      <th>max</th>\n",
       "      <td>63337.00</td>\n",
       "      <td>20000.00</td>\n",
       "      <td>700.00</td>\n",
       "      <td>480.00</td>\n",
       "      <td>81000.00</td>\n",
       "      <td>41667.00</td>\n",
       "      <td>570.00</td>\n",
       "      <td>480.00</td>\n",
       "    </tr>\n",
       "  </tbody>\n",
       "</table>\n",
       "</div>"
      ],
      "text/plain": [
       "       Loan status-yes                                                  \\\n",
       "      applicant_income coapplicant_income loan_amount loan_amount_term   \n",
       "count           422.00             422.00      411.00           414.00   \n",
       "mean           5384.07            1504.52      144.29           341.07   \n",
       "std            5765.44            1924.75       85.48            63.25   \n",
       "min             210.00               0.00       17.00            12.00   \n",
       "25%            2877.50               0.00      100.00           360.00   \n",
       "50%            3812.50            1239.50      126.00           360.00   \n",
       "75%            5771.50            2297.25      161.00           360.00   \n",
       "max           63337.00           20000.00      700.00           480.00   \n",
       "\n",
       "        Loan status-No                                                  \n",
       "      applicant_income coapplicant_income loan_amount loan_amount_term  \n",
       "count           192.00             192.00      181.00           186.00  \n",
       "mean           5446.08            1877.81      151.22           344.06  \n",
       "std            6819.56            4384.06       85.86            69.24  \n",
       "min             150.00               0.00        9.00            36.00  \n",
       "25%            2885.00               0.00      100.00           360.00  \n",
       "50%            3833.50             268.00      129.00           360.00  \n",
       "75%            5861.25            2273.75      176.00           360.00  \n",
       "max           81000.00           41667.00      570.00           480.00  "
      ]
     },
     "execution_count": 25,
     "metadata": {},
     "output_type": "execute_result"
    }
   ],
   "source": [
    "# Discriptive analysis for numerical variable\n",
    "subsets = ['applicant_income', 'coapplicant_income', 'loan_amount', 'loan_amount_term']\n",
    "yes_d = round(train_data.loc[train_data.loan_status=='y', subsets].describe(), 2)\n",
    "no_d = round(train_data.loc[train_data.loan_status=='n', subsets].describe(), 2)\n",
    "\n",
    "pd.concat([yes_d, no_d], keys=[\"Loan status-yes\", \"Loan status-No\"], axis=1)"
   ]
  },
  {
   "cell_type": "markdown",
   "id": "bd2c81cf",
   "metadata": {},
   "source": [
    "The above table shows us the descriptive summary for attribute subset by loan status. Applicant and Co-applicant income mean seems to be same for both the status.\n",
    "\n",
    "Let's further evaluate our findings using one-way ANOVA hypothesis test."
   ]
  },
  {
   "cell_type": "code",
   "execution_count": 26,
   "id": "942d9974",
   "metadata": {
    "ExecuteTime": {
     "end_time": "2022-11-03T12:41:09.470555Z",
     "start_time": "2022-11-03T12:41:09.300823Z"
    }
   },
   "outputs": [
    {
     "name": "stdout",
     "output_type": "stream",
     "text": [
      "ANOVA hypothesis test::\n",
      "F_statistics:: 0.013574218522301743\n",
      "P-value:: 0.907287812130378\n"
     ]
    }
   ],
   "source": [
    "# One way ANOVA hypothesis test.\n",
    "\"\"\"\n",
    "    Let's compute the one way anova hypothesis test,\n",
    "    H0: The mean group of each category of loan status('y', 'n') is same.\n",
    "    H1: There is difference between these two group means.\n",
    "\"\"\"\n",
    "f_stats, p_value = stats.f_oneway(train_data[train_data.loan_status == 'y']['applicant_income'], \n",
    "                                  train_data[train_data.loan_status=='n']['applicant_income'])\n",
    "\n",
    "print(\"ANOVA hypothesis test::\")\n",
    "print(\"F_statistics::\", f_stats)\n",
    "print(\"P-value::\", p_value)"
   ]
  },
  {
   "cell_type": "markdown",
   "id": "7cf5463f",
   "metadata": {},
   "source": [
    "The above ANOVA test results of loan status has p-value which is greater than 0.05, which fail to reject the null hypothesis. This tells us that there is no statistically significant difference in means of loan status classes."
   ]
  },
  {
   "cell_type": "code",
   "execution_count": 27,
   "id": "ca712741",
   "metadata": {
    "ExecuteTime": {
     "end_time": "2022-11-03T12:41:10.215969Z",
     "start_time": "2022-11-03T12:41:09.478559Z"
    }
   },
   "outputs": [
    {
     "data": {
      "image/png": "[encoded data removed]",
      "text/plain": [
       "<Figure size 840x350 with 2 Axes>"
      ]
     },
     "metadata": {},
     "output_type": "display_data"
    }
   ],
   "source": [
    "# applicant income\n",
    "fig, (ax1, ax2) = plt.subplots(nrows=1, ncols=2, figsize=(12, 5))\n",
    "sns.histplot(data=train_data, x='applicant_income', bins=12, kde=True, ax=ax1)\n",
    "ax1.set_title(\"Long tail distribution of income\", size=12)\n",
    "\n",
    "sns.boxplot(data=train_data, y='applicant_income', x='loan_status', ax=ax2)\n",
    "ax2.set_title(\"box-plot: applicant income\")\n",
    "plt.show()"
   ]
  },
  {
   "cell_type": "markdown",
   "id": "8fd2fdda",
   "metadata": {},
   "source": [
    "The above plot shows the long tail distribution for applicant income. It seems like there are some outliers present in the data. The above box plot shows, the average income of applicant for both loan status is same. "
   ]
  },
  {
   "cell_type": "code",
   "execution_count": 28,
   "id": "32d1c783",
   "metadata": {
    "ExecuteTime": {
     "end_time": "2022-11-03T12:41:10.597952Z",
     "start_time": "2022-11-03T12:41:10.221962Z"
    },
    "scrolled": true
   },
   "outputs": [
    {
     "data": {
      "image/png": "[encoded data removed]",
      "text/plain": [
       "<Figure size 840x350 with 2 Axes>"
      ]
     },
     "metadata": {},
     "output_type": "display_data"
    }
   ],
   "source": [
    "# coapplicant income\n",
    "fig, (ax1, ax2) = plt.subplots(nrows=1, ncols=2, figsize=(12, 5))\n",
    "sns.histplot(data=train_data, x='loan_amount', kde=True, ax=ax1)\n",
    "ax1.set_title(\"Right skewed distribution of loan amount\", size=12)\n",
    "\n",
    "sns.boxplot(data=train_data, y='loan_amount', x='loan_status', ax=ax2)\n",
    "ax2.set_title(\"box-plot: loan amount\")\n",
    "plt.show()"
   ]
  },
  {
   "cell_type": "markdown",
   "id": "eb990c55",
   "metadata": {},
   "source": [
    "We can that the there is right skewed distribution of `loan amount` and this box plot also shows that there is no difference between means of loan amount for both classes."
   ]
  },
  {
   "cell_type": "code",
   "execution_count": 29,
   "id": "96818c6f",
   "metadata": {
    "ExecuteTime": {
     "end_time": "2022-11-03T12:41:10.677957Z",
     "start_time": "2022-11-03T12:41:10.600956Z"
    }
   },
   "outputs": [
    {
     "data": {
      "text/html": [
       "<style type=\"text/css\">\n",
       "#T_1966d_row0_col0, #T_1966d_row1_col1, #T_1966d_row2_col2, #T_1966d_row3_col3 {\n",
       "  background-color: #023858;\n",
       "  color: #f1f1f1;\n",
       "}\n",
       "#T_1966d_row0_col1, #T_1966d_row1_col0, #T_1966d_row1_col3, #T_1966d_row3_col2 {\n",
       "  background-color: #fff7fb;\n",
       "  color: #000000;\n",
       "}\n",
       "#T_1966d_row0_col2 {\n",
       "  background-color: #5a9ec9;\n",
       "  color: #f1f1f1;\n",
       "}\n",
       "#T_1966d_row0_col3 {\n",
       "  background-color: #fdf5fa;\n",
       "  color: #000000;\n",
       "}\n",
       "#T_1966d_row1_col2 {\n",
       "  background-color: #e6e2ef;\n",
       "  color: #000000;\n",
       "}\n",
       "#T_1966d_row2_col0 {\n",
       "  background-color: #3b92c1;\n",
       "  color: #f1f1f1;\n",
       "}\n",
       "#T_1966d_row2_col1 {\n",
       "  background-color: #c9cee4;\n",
       "  color: #000000;\n",
       "}\n",
       "#T_1966d_row2_col3 {\n",
       "  background-color: #f1ebf5;\n",
       "  color: #000000;\n",
       "}\n",
       "#T_1966d_row3_col0 {\n",
       "  background-color: #f5eff6;\n",
       "  color: #000000;\n",
       "}\n",
       "#T_1966d_row3_col1 {\n",
       "  background-color: #f7f0f7;\n",
       "  color: #000000;\n",
       "}\n",
       "</style>\n",
       "<table id=\"T_1966d\">\n",
       "  <thead>\n",
       "    <tr>\n",
       "      <th class=\"blank level0\" >&nbsp;</th>\n",
       "      <th id=\"T_1966d_level0_col0\" class=\"col_heading level0 col0\" >applicant_income</th>\n",
       "      <th id=\"T_1966d_level0_col1\" class=\"col_heading level0 col1\" >coapplicant_income</th>\n",
       "      <th id=\"T_1966d_level0_col2\" class=\"col_heading level0 col2\" >loan_amount</th>\n",
       "      <th id=\"T_1966d_level0_col3\" class=\"col_heading level0 col3\" >loan_amount_term</th>\n",
       "    </tr>\n",
       "  </thead>\n",
       "  <tbody>\n",
       "    <tr>\n",
       "      <th id=\"T_1966d_level0_row0\" class=\"row_heading level0 row0\" >applicant_income</th>\n",
       "      <td id=\"T_1966d_row0_col0\" class=\"data row0 col0\" >1.000000</td>\n",
       "      <td id=\"T_1966d_row0_col1\" class=\"data row0 col1\" >-0.116605</td>\n",
       "      <td id=\"T_1966d_row0_col2\" class=\"data row0 col2\" >0.570909</td>\n",
       "      <td id=\"T_1966d_row0_col3\" class=\"data row0 col3\" >-0.045306</td>\n",
       "    </tr>\n",
       "    <tr>\n",
       "      <th id=\"T_1966d_level0_row1\" class=\"row_heading level0 row1\" >coapplicant_income</th>\n",
       "      <td id=\"T_1966d_row1_col0\" class=\"data row1 col0\" >-0.116605</td>\n",
       "      <td id=\"T_1966d_row1_col1\" class=\"data row1 col1\" >1.000000</td>\n",
       "      <td id=\"T_1966d_row1_col2\" class=\"data row1 col2\" >0.188619</td>\n",
       "      <td id=\"T_1966d_row1_col3\" class=\"data row1 col3\" >-0.059878</td>\n",
       "    </tr>\n",
       "    <tr>\n",
       "      <th id=\"T_1966d_level0_row2\" class=\"row_heading level0 row2\" >loan_amount</th>\n",
       "      <td id=\"T_1966d_row2_col0\" class=\"data row2 col0\" >0.570909</td>\n",
       "      <td id=\"T_1966d_row2_col1\" class=\"data row2 col1\" >0.188619</td>\n",
       "      <td id=\"T_1966d_row2_col2\" class=\"data row2 col2\" >1.000000</td>\n",
       "      <td id=\"T_1966d_row2_col3\" class=\"data row2 col3\" >0.039447</td>\n",
       "    </tr>\n",
       "    <tr>\n",
       "      <th id=\"T_1966d_level0_row3\" class=\"row_heading level0 row3\" >loan_amount_term</th>\n",
       "      <td id=\"T_1966d_row3_col0\" class=\"data row3 col0\" >-0.045306</td>\n",
       "      <td id=\"T_1966d_row3_col1\" class=\"data row3 col1\" >-0.059878</td>\n",
       "      <td id=\"T_1966d_row3_col2\" class=\"data row3 col2\" >0.039447</td>\n",
       "      <td id=\"T_1966d_row3_col3\" class=\"data row3 col3\" >1.000000</td>\n",
       "    </tr>\n",
       "  </tbody>\n",
       "</table>\n"
      ],
      "text/plain": [
       "<pandas.io.formats.style.Styler at 0x21e779dc130>"
      ]
     },
     "execution_count": 29,
     "metadata": {},
     "output_type": "execute_result"
    }
   ],
   "source": [
    "# Statistical description\n",
    "train_data[subsets].corr().style.background_gradient(axis=0)"
   ]
  },
  {
   "cell_type": "markdown",
   "id": "9de4db8d",
   "metadata": {},
   "source": [
    "The above table shows the correlation between variables, the correlation between loan amount and incomes is high."
   ]
  },
  {
   "cell_type": "code",
   "execution_count": 30,
   "id": "74313cac",
   "metadata": {
    "ExecuteTime": {
     "end_time": "2022-11-03T12:41:11.409010Z",
     "start_time": "2022-11-03T12:41:10.683955Z"
    }
   },
   "outputs": [
    {
     "data": {
      "image/png": "[encoded data removed]",
      "text/plain": [
       "<Figure size 840x350 with 2 Axes>"
      ]
     },
     "metadata": {},
     "output_type": "display_data"
    }
   ],
   "source": [
    "# Let's find out if there is linear relation between these two income variables with loan_amount.\n",
    "fig, (ax1, ax2) = plt.subplots(nrows=1, ncols=2, figsize=(12, 5))\n",
    "sns.scatterplot(data=train_data, x='applicant_income', y='loan_amount', hue='loan_status', ax=ax1)\n",
    "sns.scatterplot(data=train_data, x='coapplicant_income', y='loan_amount', hue='loan_status', ax=ax2)\n",
    "fig.suptitle(\"Correlation - Loan amount - Applicant Income\")\n",
    "plt.show()"
   ]
  },
  {
   "cell_type": "markdown",
   "id": "6fa1e3c0",
   "metadata": {},
   "source": [
    "There is no linear relationship observed in incomes and loan amount."
   ]
  },
  {
   "cell_type": "code",
   "execution_count": null,
   "id": "0234196f",
   "metadata": {},
   "outputs": [],
   "source": []
  }
 ],
 "metadata": {
  "hide_input": false,
  "kernelspec": {
   "display_name": "Python 3 (ipykernel)",
   "language": "python",
   "name": "python3"
  },
  "language_info": {
   "codemirror_mode": {
    "name": "ipython",
    "version": 3
   },
   "file_extension": ".py",
   "mimetype": "text/x-python",
   "name": "python",
   "nbconvert_exporter": "python",
   "pygments_lexer": "ipython3",
   "version": "3.9.7"
  }
 },
 "nbformat": 4,
 "nbformat_minor": 5
}
