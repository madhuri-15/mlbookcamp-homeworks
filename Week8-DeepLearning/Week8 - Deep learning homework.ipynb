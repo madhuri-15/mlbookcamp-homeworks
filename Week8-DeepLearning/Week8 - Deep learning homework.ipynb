{
 "cells": [
  {
   "cell_type": "markdown",
   "id": "a9445ae2",
   "metadata": {},
   "source": [
    "## Deep Learning - Homework Notebook"
   ]
  },
  {
   "cell_type": "code",
   "execution_count": 1,
   "id": "9d84b2de",
   "metadata": {},
   "outputs": [
    {
     "name": "stderr",
     "output_type": "stream",
     "text": [
      "2022-11-23 07:00:06.206638: I tensorflow/core/util/util.cc:169] oneDNN custom operations are on. You may see slightly different numerical results due to floating-point round-off errors from different computation orders. To turn them off, set the environment variable `TF_ENABLE_ONEDNN_OPTS=0`.\n"
     ]
    }
   ],
   "source": [
    "# Import libaries\n",
    "import numpy as np\n",
    "\n",
    "import tensorflow as tf\n",
    "from tensorflow import keras\n",
    "\n",
    "# for images\n",
    "from tensorflow.keras.preprocessing.image import ImageDataGenerator\n",
    "from tensorflow.keras.preprocessing.image import load_img"
   ]
  },
  {
   "cell_type": "code",
   "execution_count": 2,
   "id": "1ade5899",
   "metadata": {},
   "outputs": [
    {
     "name": "stderr",
     "output_type": "stream",
     "text": [
      "2022-11-23 07:00:07.975222: I tensorflow/stream_executor/cuda/cuda_gpu_executor.cc:975] successful NUMA node read from SysFS had negative value (-1), but there must be at least one NUMA node, so returning NUMA node zero\n",
      "2022-11-23 07:00:07.982600: I tensorflow/stream_executor/cuda/cuda_gpu_executor.cc:975] successful NUMA node read from SysFS had negative value (-1), but there must be at least one NUMA node, so returning NUMA node zero\n",
      "2022-11-23 07:00:07.983258: I tensorflow/stream_executor/cuda/cuda_gpu_executor.cc:975] successful NUMA node read from SysFS had negative value (-1), but there must be at least one NUMA node, so returning NUMA node zero\n",
      "2022-11-23 07:00:07.984375: I tensorflow/core/platform/cpu_feature_guard.cc:193] This TensorFlow binary is optimized with oneAPI Deep Neural Network Library (oneDNN) to use the following CPU instructions in performance-critical operations:  AVX2 AVX512F AVX512_VNNI FMA\n",
      "To enable them in other operations, rebuild TensorFlow with the appropriate compiler flags.\n",
      "2022-11-23 07:00:07.984786: I tensorflow/stream_executor/cuda/cuda_gpu_executor.cc:975] successful NUMA node read from SysFS had negative value (-1), but there must be at least one NUMA node, so returning NUMA node zero\n",
      "2022-11-23 07:00:07.985388: I tensorflow/stream_executor/cuda/cuda_gpu_executor.cc:975] successful NUMA node read from SysFS had negative value (-1), but there must be at least one NUMA node, so returning NUMA node zero\n",
      "2022-11-23 07:00:07.985959: I tensorflow/stream_executor/cuda/cuda_gpu_executor.cc:975] successful NUMA node read from SysFS had negative value (-1), but there must be at least one NUMA node, so returning NUMA node zero\n",
      "2022-11-23 07:00:08.590128: I tensorflow/stream_executor/cuda/cuda_gpu_executor.cc:975] successful NUMA node read from SysFS had negative value (-1), but there must be at least one NUMA node, so returning NUMA node zero\n",
      "2022-11-23 07:00:08.590774: I tensorflow/stream_executor/cuda/cuda_gpu_executor.cc:975] successful NUMA node read from SysFS had negative value (-1), but there must be at least one NUMA node, so returning NUMA node zero\n",
      "2022-11-23 07:00:08.591329: I tensorflow/stream_executor/cuda/cuda_gpu_executor.cc:975] successful NUMA node read from SysFS had negative value (-1), but there must be at least one NUMA node, so returning NUMA node zero\n",
      "2022-11-23 07:00:08.591863: I tensorflow/core/common_runtime/gpu/gpu_device.cc:1532] Created device /job:localhost/replica:0/task:0/device:GPU:0 with 13795 MB memory:  -> device: 0, name: Tesla T4, pci bus id: 0000:00:1e.0, compute capability: 7.5\n"
     ]
    }
   ],
   "source": [
    "# Creating a model from scratch\n",
    "model = keras.models.Sequential()\n",
    "\n",
    "# Add a input\n",
    "model.add(keras.Input(shape=(150, 150, 3)))\n",
    "\n",
    "# Create a convolutional layer\n",
    "model.add(keras.layers.Conv2D(filters=32, kernel_size=(3, 3), activation='relu'))\n",
    "\n",
    "# Reduced the size of feature map with max pooling(MaxPooling2D)\n",
    "model.add(keras.layers.MaxPooling2D(pool_size=(2, 2)))\n",
    "\n",
    "# Add flatten layer to convert multi-dimensional results into vectors\n",
    "model.add(keras.layers.Flatten())\n",
    "\n",
    "# Add a dense layer with 64 nuerons\n",
    "model.add(keras.layers.Dense(64, activation='relu'))\n",
    "\n",
    "# Add a output dense layer with 1 nueron\n",
    "model.add(keras.layers.Dense(1, activation='sigmoid'))\n",
    "\n",
    "# Model training\n",
    "optimizer = keras.optimizers.SGD(learning_rate=0.002, momentum=0.8)\n",
    "loss = keras.losses.BinaryCrossentropy()\n",
    "\n",
    "model.compile(optimizer=optimizer, loss=loss, metrics=['accuracy'])"
   ]
  },
  {
   "cell_type": "code",
   "execution_count": 3,
   "id": "10d46654",
   "metadata": {
    "scrolled": true
   },
   "outputs": [
    {
     "name": "stdout",
     "output_type": "stream",
     "text": [
      "Model: \"sequential\"\n",
      "_________________________________________________________________\n",
      " Layer (type)                Output Shape              Param #   \n",
      "=================================================================\n",
      " conv2d (Conv2D)             (None, 148, 148, 32)      896       \n",
      "                                                                 \n",
      " max_pooling2d (MaxPooling2D  (None, 74, 74, 32)       0         \n",
      " )                                                               \n",
      "                                                                 \n",
      " flatten (Flatten)           (None, 175232)            0         \n",
      "                                                                 \n",
      " dense (Dense)               (None, 64)                11214912  \n",
      "                                                                 \n",
      " dense_1 (Dense)             (None, 1)                 65        \n",
      "                                                                 \n",
      "=================================================================\n",
      "Total params: 11,215,873\n",
      "Trainable params: 11,215,873\n",
      "Non-trainable params: 0\n",
      "_________________________________________________________________\n"
     ]
    }
   ],
   "source": [
    "# Q2. What's the total number of parameters of the model? ANSWER- 11215873\n",
    "model.summary()"
   ]
  },
  {
   "cell_type": "code",
   "execution_count": 4,
   "id": "ff21ca41",
   "metadata": {},
   "outputs": [
    {
     "name": "stdout",
     "output_type": "stream",
     "text": [
      "Found 1594 images belonging to 2 classes.\n",
      "Found 394 images belonging to 2 classes.\n"
     ]
    }
   ],
   "source": [
    "# Data preparation\n",
    "img_gen = ImageDataGenerator(rescale=1./255)\n",
    "\n",
    "# Read from directory\n",
    "train_df = img_gen.flow_from_directory(\"./train\",\n",
    "                                       class_mode='binary',\n",
    "                                       target_size=(150, 150),\n",
    "                                       batch_size=20,\n",
    "                                       shuffle=True)\n",
    "\n",
    "# For validation data\n",
    "test_df = img_gen.flow_from_directory(\"./test\",\n",
    "                                      class_mode='binary',\n",
    "                                      target_size=(150, 150),\n",
    "                                      batch_size=20,\n",
    "                                      shuffle=False\n",
    "                                     )"
   ]
  },
  {
   "cell_type": "code",
   "execution_count": 5,
   "id": "b5ac5486",
   "metadata": {
    "scrolled": true
   },
   "outputs": [
    {
     "name": "stdout",
     "output_type": "stream",
     "text": [
      "Epoch 1/10\n"
     ]
    },
    {
     "name": "stderr",
     "output_type": "stream",
     "text": [
      "2022-11-23 07:00:10.206696: I tensorflow/stream_executor/cuda/cuda_dnn.cc:384] Loaded cuDNN version 8100\n",
      "2022-11-23 07:00:10.859106: I tensorflow/core/platform/default/subprocess.cc:304] Start cannot spawn child process: No such file or directory\n",
      "2022-11-23 07:00:10.860016: I tensorflow/core/platform/default/subprocess.cc:304] Start cannot spawn child process: No such file or directory\n",
      "2022-11-23 07:00:10.860052: W tensorflow/stream_executor/gpu/asm_compiler.cc:80] Couldn't get ptxas version string: INTERNAL: Couldn't invoke ptxas --version\n",
      "2022-11-23 07:00:10.860910: I tensorflow/core/platform/default/subprocess.cc:304] Start cannot spawn child process: No such file or directory\n",
      "2022-11-23 07:00:10.860986: W tensorflow/stream_executor/gpu/redzone_allocator.cc:314] INTERNAL: Failed to launch ptxas\n",
      "Relying on driver to perform ptx compilation. \n",
      "Modify $PATH to customize ptxas location.\n",
      "This message will be only logged once.\n"
     ]
    },
    {
     "name": "stdout",
     "output_type": "stream",
     "text": [
      "80/80 [==============================] - 11s 109ms/step - loss: 0.6466 - accuracy: 0.6292 - val_loss: 0.5571 - val_accuracy: 0.7919\n",
      "Epoch 2/10\n",
      "80/80 [==============================] - 9s 106ms/step - loss: 0.5279 - accuracy: 0.7566 - val_loss: 0.4534 - val_accuracy: 0.8376\n",
      "Epoch 3/10\n",
      "80/80 [==============================] - 9s 107ms/step - loss: 0.4288 - accuracy: 0.8168 - val_loss: 0.4003 - val_accuracy: 0.8147\n",
      "Epoch 4/10\n",
      "80/80 [==============================] - 9s 106ms/step - loss: 0.3707 - accuracy: 0.8476 - val_loss: 0.4264 - val_accuracy: 0.7919\n",
      "Epoch 5/10\n",
      "80/80 [==============================] - 8s 106ms/step - loss: 0.3280 - accuracy: 0.8777 - val_loss: 0.3295 - val_accuracy: 0.8629\n",
      "Epoch 6/10\n",
      "80/80 [==============================] - 8s 106ms/step - loss: 0.2875 - accuracy: 0.8921 - val_loss: 0.3125 - val_accuracy: 0.8756\n",
      "Epoch 7/10\n",
      "80/80 [==============================] - 9s 107ms/step - loss: 0.2398 - accuracy: 0.9103 - val_loss: 0.2948 - val_accuracy: 0.8731\n",
      "Epoch 8/10\n",
      "80/80 [==============================] - 9s 107ms/step - loss: 0.2204 - accuracy: 0.9260 - val_loss: 0.2879 - val_accuracy: 0.8731\n",
      "Epoch 9/10\n",
      "80/80 [==============================] - 8s 106ms/step - loss: 0.1831 - accuracy: 0.9498 - val_loss: 0.3080 - val_accuracy: 0.8629\n",
      "Epoch 10/10\n",
      "80/80 [==============================] - 9s 106ms/step - loss: 0.1774 - accuracy: 0.9404 - val_loss: 0.2747 - val_accuracy: 0.8807\n"
     ]
    }
   ],
   "source": [
    "# model training\n",
    "model_hist = model.fit(\n",
    "    train_df,\n",
    "    epochs=10,\n",
    "    validation_data=test_df\n",
    ")"
   ]
  },
  {
   "cell_type": "code",
   "execution_count": 6,
   "id": "1d4b095c",
   "metadata": {},
   "outputs": [],
   "source": [
    "history = model_hist.history"
   ]
  },
  {
   "cell_type": "code",
   "execution_count": 7,
   "id": "6dcfb344",
   "metadata": {},
   "outputs": [
    {
     "name": "stdout",
     "output_type": "stream",
     "text": [
      "Q3. Median of training accuracy:: 0.88\n"
     ]
    }
   ],
   "source": [
    "# Q3.What is the median of training accuracy for all the epochs for this model?\n",
    "\n",
    "median_train_acc = np.median(history['accuracy'])\n",
    "print(\"Q3. Median of training accuracy:: %.2f\" % median_train_acc)"
   ]
  },
  {
   "cell_type": "code",
   "execution_count": 8,
   "id": "e98ea9c7",
   "metadata": {},
   "outputs": [
    {
     "name": "stdout",
     "output_type": "stream",
     "text": [
      "Q4. Standard deviation of training loss:: 0.15\n"
     ]
    }
   ],
   "source": [
    "# Q4.What is the standard deviation of training loss for all the epochs for this model?\n",
    "std_loss = np.std(history['loss'])\n",
    "print(\"Q4. Standard deviation of training loss:: %.2f\" %std_loss)"
   ]
  },
  {
   "cell_type": "code",
   "execution_count": 9,
   "id": "e60458b8",
   "metadata": {},
   "outputs": [
    {
     "name": "stdout",
     "output_type": "stream",
     "text": [
      "Found 1594 images belonging to 2 classes.\n"
     ]
    }
   ],
   "source": [
    "# Data Agumentation\n",
    "train_gen = ImageDataGenerator(rescale=1./255,\n",
    "                               rotation_range=40,\n",
    "                               width_shift_range=0.2,\n",
    "                               height_shift_range=0.2,\n",
    "                               shear_range=0.2,\n",
    "                               zoom_range=0.2,\n",
    "                               horizontal_flip=True,\n",
    "                               fill_mode='nearest'\n",
    "                              )\n",
    "\n",
    "# Read from directory\n",
    "train_df = img_gen.flow_from_directory(\"./train\",\n",
    "                                       class_mode='binary',\n",
    "                                       target_size=(150, 150),\n",
    "                                       batch_size=20,\n",
    "                                       shuffle=True)"
   ]
  },
  {
   "cell_type": "code",
   "execution_count": 10,
   "id": "52ec94a7",
   "metadata": {
    "scrolled": true
   },
   "outputs": [
    {
     "name": "stdout",
     "output_type": "stream",
     "text": [
      "Epoch 1/20\n",
      "80/80 [==============================] - 9s 107ms/step - loss: 0.1480 - accuracy: 0.9573 - val_loss: 0.4009 - val_accuracy: 0.8249\n",
      "Epoch 2/20\n",
      "80/80 [==============================] - 8s 105ms/step - loss: 0.1380 - accuracy: 0.9555 - val_loss: 0.2671 - val_accuracy: 0.8832\n",
      "Epoch 3/20\n",
      "80/80 [==============================] - 9s 106ms/step - loss: 0.1086 - accuracy: 0.9668 - val_loss: 0.2941 - val_accuracy: 0.8756\n",
      "Epoch 4/20\n",
      "80/80 [==============================] - 9s 107ms/step - loss: 0.0934 - accuracy: 0.9824 - val_loss: 0.2858 - val_accuracy: 0.8858\n",
      "Epoch 5/20\n",
      "80/80 [==============================] - 8s 106ms/step - loss: 0.0677 - accuracy: 0.9881 - val_loss: 0.2959 - val_accuracy: 0.8706\n",
      "Epoch 6/20\n",
      "80/80 [==============================] - 8s 106ms/step - loss: 0.0631 - accuracy: 0.9875 - val_loss: 0.3212 - val_accuracy: 0.8706\n",
      "Epoch 7/20\n",
      "80/80 [==============================] - 9s 106ms/step - loss: 0.0501 - accuracy: 0.9900 - val_loss: 0.3029 - val_accuracy: 0.8858\n",
      "Epoch 8/20\n",
      "80/80 [==============================] - 8s 105ms/step - loss: 0.0361 - accuracy: 0.9987 - val_loss: 0.3086 - val_accuracy: 0.8858\n",
      "Epoch 9/20\n",
      "80/80 [==============================] - 8s 106ms/step - loss: 0.0389 - accuracy: 0.9969 - val_loss: 0.3085 - val_accuracy: 0.8782\n",
      "Epoch 10/20\n",
      "80/80 [==============================] - 9s 106ms/step - loss: 0.0283 - accuracy: 0.9994 - val_loss: 0.3126 - val_accuracy: 0.8756\n",
      "Epoch 11/20\n",
      "80/80 [==============================] - 9s 107ms/step - loss: 0.0249 - accuracy: 0.9981 - val_loss: 0.3169 - val_accuracy: 0.8756\n",
      "Epoch 12/20\n",
      "80/80 [==============================] - 8s 105ms/step - loss: 0.0203 - accuracy: 0.9994 - val_loss: 0.3274 - val_accuracy: 0.8706\n",
      "Epoch 13/20\n",
      "80/80 [==============================] - 8s 106ms/step - loss: 0.0169 - accuracy: 0.9994 - val_loss: 0.3307 - val_accuracy: 0.8680\n",
      "Epoch 14/20\n",
      "80/80 [==============================] - 9s 107ms/step - loss: 0.0154 - accuracy: 0.9994 - val_loss: 0.3362 - val_accuracy: 0.8680\n",
      "Epoch 15/20\n",
      "80/80 [==============================] - 8s 106ms/step - loss: 0.0135 - accuracy: 0.9994 - val_loss: 0.3524 - val_accuracy: 0.8782\n",
      "Epoch 16/20\n",
      "80/80 [==============================] - 8s 105ms/step - loss: 0.0125 - accuracy: 0.9994 - val_loss: 0.3481 - val_accuracy: 0.8731\n",
      "Epoch 17/20\n",
      "80/80 [==============================] - 9s 107ms/step - loss: 0.0102 - accuracy: 0.9994 - val_loss: 0.3546 - val_accuracy: 0.8706\n",
      "Epoch 18/20\n",
      "80/80 [==============================] - 8s 106ms/step - loss: 0.0099 - accuracy: 0.9994 - val_loss: 0.3712 - val_accuracy: 0.8807\n",
      "Epoch 19/20\n",
      "80/80 [==============================] - 8s 106ms/step - loss: 0.0085 - accuracy: 0.9994 - val_loss: 0.3577 - val_accuracy: 0.8731\n",
      "Epoch 20/20\n",
      "80/80 [==============================] - 8s 105ms/step - loss: 0.0086 - accuracy: 1.0000 - val_loss: 0.3701 - val_accuracy: 0.8756\n"
     ]
    }
   ],
   "source": [
    "# model training with agumentated data\n",
    "model_hist = model.fit(\n",
    "    train_df,\n",
    "    epochs=20,\n",
    "    validation_data=test_df\n",
    ")"
   ]
  },
  {
   "cell_type": "code",
   "execution_count": 11,
   "id": "1914db09",
   "metadata": {},
   "outputs": [],
   "source": [
    "history = model_hist.history"
   ]
  },
  {
   "cell_type": "code",
   "execution_count": 12,
   "id": "97a6deb9",
   "metadata": {},
   "outputs": [
    {
     "name": "stdout",
     "output_type": "stream",
     "text": [
      "Q5. Mean of test loss for all the epochs:: 0.33\n"
     ]
    }
   ],
   "source": [
    "# Q5.What is the mean of test loss for all the epochs for the model trained with augmentations?\n",
    "avg_loss_test = np.mean(history['val_loss'])\n",
    "print(\"Q5. Mean of test loss for all the epochs:: %.2f\" % avg_loss_test)"
   ]
  },
  {
   "cell_type": "code",
   "execution_count": 13,
   "id": "db70e879",
   "metadata": {},
   "outputs": [
    {
     "name": "stdout",
     "output_type": "stream",
     "text": [
      "Q6. Mean of test loss for all the epochs:: 0.87\n"
     ]
    }
   ],
   "source": [
    "# Q6.What's the average of test accuracy for the last 5 epochs (from 6 to 10) for the model trained with augmentations?\n",
    "avg_test_acc = np.mean(history['val_accuracy'][-5:])\n",
    "print(\"Q6. Mean of test loss for all the epochs:: %.2f\" % avg_test_acc)"
   ]
  }
 ],
 "metadata": {
  "kernelspec": {
   "display_name": "saturn (Python 3)",
   "language": "python",
   "name": "python3"
  },
  "language_info": {
   "codemirror_mode": {
    "name": "ipython",
    "version": 3
   },
   "file_extension": ".py",
   "mimetype": "text/x-python",
   "name": "python",
   "nbconvert_exporter": "python",
   "pygments_lexer": "ipython3",
   "version": "3.9.13"
  }
 },
 "nbformat": 4,
 "nbformat_minor": 5
}
