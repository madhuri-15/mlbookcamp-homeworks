{
 "cells": [
  {
   "cell_type": "code",
   "execution_count": 1,
   "id": "2f00efee",
   "metadata": {
    "ExecuteTime": {
     "end_time": "2022-09-10T09:52:40.668598Z",
     "start_time": "2022-09-10T09:52:39.365152Z"
    }
   },
   "outputs": [],
   "source": [
    "# Importing Libraries\n",
    "import pandas as pd\n",
    "import numpy as np\n",
    "import matplotlib.pyplot as plt\n",
    "%matplotlib inline"
   ]
  },
  {
   "cell_type": "code",
   "execution_count": 2,
   "id": "4b10516d",
   "metadata": {
    "ExecuteTime": {
     "end_time": "2022-09-10T09:52:40.795897Z",
     "start_time": "2022-09-10T09:52:40.668598Z"
    }
   },
   "outputs": [
    {
     "data": {
      "text/html": [
       "<div>\n",
       "<style scoped>\n",
       "    .dataframe tbody tr th:only-of-type {\n",
       "        vertical-align: middle;\n",
       "    }\n",
       "\n",
       "    .dataframe tbody tr th {\n",
       "        vertical-align: top;\n",
       "    }\n",
       "\n",
       "    .dataframe thead th {\n",
       "        text-align: right;\n",
       "    }\n",
       "</style>\n",
       "<table border=\"1\" class=\"dataframe\">\n",
       "  <thead>\n",
       "    <tr style=\"text-align: right;\">\n",
       "      <th></th>\n",
       "      <th>Make</th>\n",
       "      <th>Model</th>\n",
       "      <th>Year</th>\n",
       "      <th>Engine Fuel Type</th>\n",
       "      <th>Engine HP</th>\n",
       "      <th>Engine Cylinders</th>\n",
       "      <th>Transmission Type</th>\n",
       "      <th>Driven_Wheels</th>\n",
       "      <th>Number of Doors</th>\n",
       "      <th>Market Category</th>\n",
       "      <th>Vehicle Size</th>\n",
       "      <th>Vehicle Style</th>\n",
       "      <th>highway MPG</th>\n",
       "      <th>city mpg</th>\n",
       "      <th>Popularity</th>\n",
       "      <th>MSRP</th>\n",
       "    </tr>\n",
       "  </thead>\n",
       "  <tbody>\n",
       "    <tr>\n",
       "      <th>0</th>\n",
       "      <td>BMW</td>\n",
       "      <td>1 Series M</td>\n",
       "      <td>2011</td>\n",
       "      <td>premium unleaded (required)</td>\n",
       "      <td>335.0</td>\n",
       "      <td>6.0</td>\n",
       "      <td>MANUAL</td>\n",
       "      <td>rear wheel drive</td>\n",
       "      <td>2.0</td>\n",
       "      <td>Factory Tuner,Luxury,High-Performance</td>\n",
       "      <td>Compact</td>\n",
       "      <td>Coupe</td>\n",
       "      <td>26</td>\n",
       "      <td>19</td>\n",
       "      <td>3916</td>\n",
       "      <td>46135</td>\n",
       "    </tr>\n",
       "    <tr>\n",
       "      <th>1</th>\n",
       "      <td>BMW</td>\n",
       "      <td>1 Series</td>\n",
       "      <td>2011</td>\n",
       "      <td>premium unleaded (required)</td>\n",
       "      <td>300.0</td>\n",
       "      <td>6.0</td>\n",
       "      <td>MANUAL</td>\n",
       "      <td>rear wheel drive</td>\n",
       "      <td>2.0</td>\n",
       "      <td>Luxury,Performance</td>\n",
       "      <td>Compact</td>\n",
       "      <td>Convertible</td>\n",
       "      <td>28</td>\n",
       "      <td>19</td>\n",
       "      <td>3916</td>\n",
       "      <td>40650</td>\n",
       "    </tr>\n",
       "    <tr>\n",
       "      <th>2</th>\n",
       "      <td>BMW</td>\n",
       "      <td>1 Series</td>\n",
       "      <td>2011</td>\n",
       "      <td>premium unleaded (required)</td>\n",
       "      <td>300.0</td>\n",
       "      <td>6.0</td>\n",
       "      <td>MANUAL</td>\n",
       "      <td>rear wheel drive</td>\n",
       "      <td>2.0</td>\n",
       "      <td>Luxury,High-Performance</td>\n",
       "      <td>Compact</td>\n",
       "      <td>Coupe</td>\n",
       "      <td>28</td>\n",
       "      <td>20</td>\n",
       "      <td>3916</td>\n",
       "      <td>36350</td>\n",
       "    </tr>\n",
       "    <tr>\n",
       "      <th>3</th>\n",
       "      <td>BMW</td>\n",
       "      <td>1 Series</td>\n",
       "      <td>2011</td>\n",
       "      <td>premium unleaded (required)</td>\n",
       "      <td>230.0</td>\n",
       "      <td>6.0</td>\n",
       "      <td>MANUAL</td>\n",
       "      <td>rear wheel drive</td>\n",
       "      <td>2.0</td>\n",
       "      <td>Luxury,Performance</td>\n",
       "      <td>Compact</td>\n",
       "      <td>Coupe</td>\n",
       "      <td>28</td>\n",
       "      <td>18</td>\n",
       "      <td>3916</td>\n",
       "      <td>29450</td>\n",
       "    </tr>\n",
       "    <tr>\n",
       "      <th>4</th>\n",
       "      <td>BMW</td>\n",
       "      <td>1 Series</td>\n",
       "      <td>2011</td>\n",
       "      <td>premium unleaded (required)</td>\n",
       "      <td>230.0</td>\n",
       "      <td>6.0</td>\n",
       "      <td>MANUAL</td>\n",
       "      <td>rear wheel drive</td>\n",
       "      <td>2.0</td>\n",
       "      <td>Luxury</td>\n",
       "      <td>Compact</td>\n",
       "      <td>Convertible</td>\n",
       "      <td>28</td>\n",
       "      <td>18</td>\n",
       "      <td>3916</td>\n",
       "      <td>34500</td>\n",
       "    </tr>\n",
       "  </tbody>\n",
       "</table>\n",
       "</div>"
      ],
      "text/plain": [
       "  Make       Model  Year             Engine Fuel Type  Engine HP  \\\n",
       "0  BMW  1 Series M  2011  premium unleaded (required)      335.0   \n",
       "1  BMW    1 Series  2011  premium unleaded (required)      300.0   \n",
       "2  BMW    1 Series  2011  premium unleaded (required)      300.0   \n",
       "3  BMW    1 Series  2011  premium unleaded (required)      230.0   \n",
       "4  BMW    1 Series  2011  premium unleaded (required)      230.0   \n",
       "\n",
       "   Engine Cylinders Transmission Type     Driven_Wheels  Number of Doors  \\\n",
       "0               6.0            MANUAL  rear wheel drive              2.0   \n",
       "1               6.0            MANUAL  rear wheel drive              2.0   \n",
       "2               6.0            MANUAL  rear wheel drive              2.0   \n",
       "3               6.0            MANUAL  rear wheel drive              2.0   \n",
       "4               6.0            MANUAL  rear wheel drive              2.0   \n",
       "\n",
       "                         Market Category Vehicle Size Vehicle Style  \\\n",
       "0  Factory Tuner,Luxury,High-Performance      Compact         Coupe   \n",
       "1                     Luxury,Performance      Compact   Convertible   \n",
       "2                Luxury,High-Performance      Compact         Coupe   \n",
       "3                     Luxury,Performance      Compact         Coupe   \n",
       "4                                 Luxury      Compact   Convertible   \n",
       "\n",
       "   highway MPG  city mpg  Popularity   MSRP  \n",
       "0           26        19        3916  46135  \n",
       "1           28        19        3916  40650  \n",
       "2           28        20        3916  36350  \n",
       "3           28        18        3916  29450  \n",
       "4           28        18        3916  34500  "
      ]
     },
     "execution_count": 2,
     "metadata": {},
     "output_type": "execute_result"
    }
   ],
   "source": [
    "# Reading data\n",
    "car_data = pd.read_csv(\"data.csv\")\n",
    "car_data.head()"
   ]
  },
  {
   "cell_type": "code",
   "execution_count": 3,
   "id": "4b4a26a9",
   "metadata": {
    "ExecuteTime": {
     "end_time": "2022-09-10T09:52:44.343733Z",
     "start_time": "2022-09-10T09:52:44.323731Z"
    }
   },
   "outputs": [
    {
     "name": "stdout",
     "output_type": "stream",
     "text": [
      "NumPy Version:: 1.23.3\n"
     ]
    }
   ],
   "source": [
    "# Question-1: What's the version of NumPy that you installed?\n",
    "print(\"NumPy Version::\", np.__version__)"
   ]
  },
  {
   "cell_type": "code",
   "execution_count": 4,
   "id": "5b6962df",
   "metadata": {
    "ExecuteTime": {
     "end_time": "2022-09-10T09:52:49.958956Z",
     "start_time": "2022-09-10T09:52:49.948956Z"
    }
   },
   "outputs": [
    {
     "name": "stdout",
     "output_type": "stream",
     "text": [
      "Number of Rows:: 11914\n"
     ]
    }
   ],
   "source": [
    "# Question-2: how many records are in dataset?\n",
    "print(\"Number of Rows::\", car_data.shape[0])"
   ]
  },
  {
   "cell_type": "code",
   "execution_count": 5,
   "id": "27bbbd3a",
   "metadata": {
    "ExecuteTime": {
     "end_time": "2022-09-10T09:52:52.119754Z",
     "start_time": "2022-09-10T09:52:52.096809Z"
    }
   },
   "outputs": [
    {
     "name": "stdout",
     "output_type": "stream",
     "text": [
      "Top-3 Car Manufacturers:: ['Chevrolet', 'Ford', 'Volkswagen']\n"
     ]
    }
   ],
   "source": [
    "# Question-3: Who are most frequent car manufacturers(top-3) according to the dataset?\n",
    "top3_manufacturers  = car_data['Make'].value_counts()[:3].index.tolist()\n",
    "print(\"Top-3 Car Manufacturers::\", top3_manufacturers)"
   ]
  },
  {
   "cell_type": "code",
   "execution_count": 6,
   "id": "094ed298",
   "metadata": {
    "ExecuteTime": {
     "end_time": "2022-09-10T09:52:52.622625Z",
     "start_time": "2022-09-10T09:52:52.602620Z"
    }
   },
   "outputs": [
    {
     "name": "stdout",
     "output_type": "stream",
     "text": [
      "Number of unique Audi car models:: 34\n"
     ]
    }
   ],
   "source": [
    "# Question-4: What's the number of unique Audi car models in the dataset?\n",
    "audi_models = len(car_data.loc[car_data.Make == 'Audi', 'Model'].unique().tolist())\n",
    "print(\"Number of unique Audi car models::\", audi_models)"
   ]
  },
  {
   "cell_type": "code",
   "execution_count": 7,
   "id": "aaffc7ba",
   "metadata": {
    "ExecuteTime": {
     "end_time": "2022-09-10T09:52:52.950004Z",
     "start_time": "2022-09-10T09:52:52.919060Z"
    }
   },
   "outputs": [
    {
     "name": "stdout",
     "output_type": "stream",
     "text": [
      "Number of columns with missing data:: 5\n"
     ]
    }
   ],
   "source": [
    "# Question-5: How many columns in the dataset have missing values?\n",
    "cols_with_missing_vals = car_data.columns[car_data.isnull().any().tolist()].tolist()\n",
    "print(\"Number of columns with missing data::\", len(cols_with_missing_vals))"
   ]
  },
  {
   "cell_type": "code",
   "execution_count": 8,
   "id": "cf17d484",
   "metadata": {
    "ExecuteTime": {
     "end_time": "2022-09-10T09:52:53.263423Z",
     "start_time": "2022-09-10T09:52:53.243421Z"
    }
   },
   "outputs": [
    {
     "name": "stdout",
     "output_type": "stream",
     "text": [
      "Does the median value change after filling missing values:: No\n"
     ]
    }
   ],
   "source": [
    "# Question-6: \"Engine Cylinders\"\n",
    "# Question-6-1: Find the median value of \"Engine Cylinders\" column in the dataset.\n",
    "eng_median = car_data['Engine Cylinders'].median()\n",
    "\n",
    "# Question-6-2: Next, calculate the most frequent value of \"Engine Cylinders\".\n",
    "eng_mode = car_data[\"Engine Cylinders\"].mode()[0]\n",
    "\n",
    "# Question-6-2: Fill the missing values in \"Engine Cylinders\" with the most frequent value from the previous step.\n",
    "car_data[\"Engine Cylinders\"] = car_data[\"Engine Cylinders\"].fillna(value=eng_mode)\n",
    "\n",
    "print(\"Does the median value change after filling missing values::\", 'No' if eng_median == car_data['Engine Cylinders'].median() else 'Yes')"
   ]
  },
  {
   "cell_type": "code",
   "execution_count": 9,
   "id": "d9c126d8",
   "metadata": {
    "ExecuteTime": {
     "end_time": "2022-09-10T09:52:53.625283Z",
     "start_time": "2022-09-10T09:52:53.606280Z"
    }
   },
   "outputs": [
    {
     "name": "stdout",
     "output_type": "stream",
     "text": [
      "The first element of w:: 4.594944810094551\n"
     ]
    }
   ],
   "source": [
    "# Question-7: 'Lotus' Cars\n",
    "# Select all the 'Lotus' cars from the dataset.\n",
    "lotus_cars = car_data.loc[car_data['Make']=='Lotus', :]\n",
    "\n",
    "# Select columns \"Engine HP\" and \"Engine Cylinders\"\n",
    "lotus_cars = lotus_cars[['Engine HP', 'Engine Cylinders']]\n",
    "\n",
    "# Drop all duplicated rows using 'drop_duplicates' method.\n",
    "lotus_cars_ = lotus_cars.drop_duplicates()\n",
    "\n",
    "# Get the underlying NumPy array. Let's call it X.\n",
    "X = np.array(lotus_cars_)\n",
    "\n",
    "# Compute matrix-matrix mulitplication bewteen the transpose of X and X, let's call the result XTX.\n",
    "transpose_X = np.transpose(X)\n",
    "XTX = transpose_X.dot(X)\n",
    "\n",
    "# Invert XTX\n",
    "inverse_X = np.linalg.inv(XTX)\n",
    "\n",
    "# Create an array y.\n",
    "y = [1100, 800, 750, 850, 1300, 1000, 1000, 1300, 800]\n",
    "\n",
    "# Multiply the inverse of XTX with the transpose of X, and then muliply the result by y.\n",
    "# Call the result `w`.\n",
    "w = inverse_X.dot(transpose_X).dot(y)\n",
    "\n",
    "# Question: What's the value of the first element of w?\n",
    "print(\"The first element of w::\", w[0])"
   ]
  }
 ],
 "metadata": {
  "hide_input": false,
  "kernelspec": {
   "display_name": "Python 3 (ipykernel)",
   "language": "python",
   "name": "python3"
  },
  "language_info": {
   "codemirror_mode": {
    "name": "ipython",
    "version": 3
   },
   "file_extension": ".py",
   "mimetype": "text/x-python",
   "name": "python",
   "nbconvert_exporter": "python",
   "pygments_lexer": "ipython3",
   "version": "3.9.7"
  }
 },
 "nbformat": 4,
 "nbformat_minor": 5
}
