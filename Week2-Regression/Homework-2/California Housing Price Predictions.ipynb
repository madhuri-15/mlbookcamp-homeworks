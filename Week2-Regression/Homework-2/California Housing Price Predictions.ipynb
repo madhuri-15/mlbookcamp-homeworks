{
 "cells": [
  {
   "cell_type": "code",
   "execution_count": 1,
   "id": "52ba1e48",
   "metadata": {
    "ExecuteTime": {
     "end_time": "2022-09-19T07:56:14.639211Z",
     "start_time": "2022-09-19T07:56:13.110440Z"
    }
   },
   "outputs": [],
   "source": [
    "# Importing libraries\n",
    "import numpy as np \n",
    "import pandas as pd\n",
    "\n",
    "# for visualization\n",
    "import matplotlib.pyplot as plt \n",
    "import seaborn as sns\n",
    "%matplotlib inline"
   ]
  },
  {
   "cell_type": "code",
   "execution_count": 2,
   "id": "6aaac135",
   "metadata": {
    "ExecuteTime": {
     "end_time": "2022-09-19T07:56:14.696086Z",
     "start_time": "2022-09-19T07:56:14.639211Z"
    }
   },
   "outputs": [],
   "source": [
    "# Read the data\n",
    "house_data = pd.read_csv(\"data/housing.csv\")"
   ]
  },
  {
   "cell_type": "code",
   "execution_count": 3,
   "id": "e1a5e115",
   "metadata": {
    "ExecuteTime": {
     "end_time": "2022-09-19T07:56:14.758598Z",
     "start_time": "2022-09-19T07:56:14.696086Z"
    }
   },
   "outputs": [
    {
     "data": {
      "text/html": [
       "<div>\n",
       "<style scoped>\n",
       "    .dataframe tbody tr th:only-of-type {\n",
       "        vertical-align: middle;\n",
       "    }\n",
       "\n",
       "    .dataframe tbody tr th {\n",
       "        vertical-align: top;\n",
       "    }\n",
       "\n",
       "    .dataframe thead th {\n",
       "        text-align: right;\n",
       "    }\n",
       "</style>\n",
       "<table border=\"1\" class=\"dataframe\">\n",
       "  <thead>\n",
       "    <tr style=\"text-align: right;\">\n",
       "      <th></th>\n",
       "      <th>longitude</th>\n",
       "      <th>latitude</th>\n",
       "      <th>housing_median_age</th>\n",
       "      <th>total_rooms</th>\n",
       "      <th>total_bedrooms</th>\n",
       "      <th>population</th>\n",
       "      <th>households</th>\n",
       "      <th>median_income</th>\n",
       "      <th>median_house_value</th>\n",
       "      <th>ocean_proximity</th>\n",
       "    </tr>\n",
       "  </thead>\n",
       "  <tbody>\n",
       "    <tr>\n",
       "      <th>0</th>\n",
       "      <td>-122.23</td>\n",
       "      <td>37.88</td>\n",
       "      <td>41.0</td>\n",
       "      <td>880.0</td>\n",
       "      <td>129.0</td>\n",
       "      <td>322.0</td>\n",
       "      <td>126.0</td>\n",
       "      <td>8.3252</td>\n",
       "      <td>452600.0</td>\n",
       "      <td>NEAR BAY</td>\n",
       "    </tr>\n",
       "    <tr>\n",
       "      <th>1</th>\n",
       "      <td>-122.22</td>\n",
       "      <td>37.86</td>\n",
       "      <td>21.0</td>\n",
       "      <td>7099.0</td>\n",
       "      <td>1106.0</td>\n",
       "      <td>2401.0</td>\n",
       "      <td>1138.0</td>\n",
       "      <td>8.3014</td>\n",
       "      <td>358500.0</td>\n",
       "      <td>NEAR BAY</td>\n",
       "    </tr>\n",
       "    <tr>\n",
       "      <th>2</th>\n",
       "      <td>-122.24</td>\n",
       "      <td>37.85</td>\n",
       "      <td>52.0</td>\n",
       "      <td>1467.0</td>\n",
       "      <td>190.0</td>\n",
       "      <td>496.0</td>\n",
       "      <td>177.0</td>\n",
       "      <td>7.2574</td>\n",
       "      <td>352100.0</td>\n",
       "      <td>NEAR BAY</td>\n",
       "    </tr>\n",
       "    <tr>\n",
       "      <th>3</th>\n",
       "      <td>-122.25</td>\n",
       "      <td>37.85</td>\n",
       "      <td>52.0</td>\n",
       "      <td>1274.0</td>\n",
       "      <td>235.0</td>\n",
       "      <td>558.0</td>\n",
       "      <td>219.0</td>\n",
       "      <td>5.6431</td>\n",
       "      <td>341300.0</td>\n",
       "      <td>NEAR BAY</td>\n",
       "    </tr>\n",
       "    <tr>\n",
       "      <th>4</th>\n",
       "      <td>-122.25</td>\n",
       "      <td>37.85</td>\n",
       "      <td>52.0</td>\n",
       "      <td>1627.0</td>\n",
       "      <td>280.0</td>\n",
       "      <td>565.0</td>\n",
       "      <td>259.0</td>\n",
       "      <td>3.8462</td>\n",
       "      <td>342200.0</td>\n",
       "      <td>NEAR BAY</td>\n",
       "    </tr>\n",
       "  </tbody>\n",
       "</table>\n",
       "</div>"
      ],
      "text/plain": [
       "   longitude  latitude  housing_median_age  total_rooms  total_bedrooms  \\\n",
       "0    -122.23     37.88                41.0        880.0           129.0   \n",
       "1    -122.22     37.86                21.0       7099.0          1106.0   \n",
       "2    -122.24     37.85                52.0       1467.0           190.0   \n",
       "3    -122.25     37.85                52.0       1274.0           235.0   \n",
       "4    -122.25     37.85                52.0       1627.0           280.0   \n",
       "\n",
       "   population  households  median_income  median_house_value ocean_proximity  \n",
       "0       322.0       126.0         8.3252            452600.0        NEAR BAY  \n",
       "1      2401.0      1138.0         8.3014            358500.0        NEAR BAY  \n",
       "2       496.0       177.0         7.2574            352100.0        NEAR BAY  \n",
       "3       558.0       219.0         5.6431            341300.0        NEAR BAY  \n",
       "4       565.0       259.0         3.8462            342200.0        NEAR BAY  "
      ]
     },
     "execution_count": 3,
     "metadata": {},
     "output_type": "execute_result"
    }
   ],
   "source": [
    "# view first five rows\n",
    "house_data.head()"
   ]
  },
  {
   "cell_type": "code",
   "execution_count": 4,
   "id": "0aa24019",
   "metadata": {
    "ExecuteTime": {
     "end_time": "2022-09-19T07:56:15.024318Z",
     "start_time": "2022-09-19T07:56:14.758598Z"
    }
   },
   "outputs": [
    {
     "data": {
      "image/png": "[encoded data removed]",
      "text/plain": [
       "<Figure size 640x480 with 1 Axes>"
      ]
     },
     "metadata": {},
     "output_type": "display_data"
    }
   ],
   "source": [
    "# Distribution of target variable - 'median_house_value'\n",
    "sns.histplot(x='median_house_value',\n",
    "            data=house_data[['median_house_value']], bins=40)\n",
    "\n",
    "plt.title(\"Distribution of median house price\", size=10)\n",
    "plt.xlabel(\"Price\")\n",
    "plt.show()"
   ]
  },
  {
   "cell_type": "markdown",
   "id": "7508dc08",
   "metadata": {},
   "source": [
    "The distribution of housing prices does not show long tail distribution, but it does have a positive/right-skewed distribution."
   ]
  },
  {
   "cell_type": "code",
   "execution_count": 5,
   "id": "9f7fe4a5",
   "metadata": {
    "ExecuteTime": {
     "end_time": "2022-09-19T07:56:15.039946Z",
     "start_time": "2022-09-19T07:56:15.024318Z"
    }
   },
   "outputs": [
    {
     "name": "stdout",
     "output_type": "stream",
     "text": [
      "Columns::\n",
      " ['longitude', 'latitude', 'housing_median_age', 'total_rooms', 'total_bedrooms', 'population', 'households', 'median_income', 'median_house_value', 'ocean_proximity']\n"
     ]
    }
   ],
   "source": [
    "# Columns\n",
    "print(\"Columns::\\n\" , house_data.columns.tolist())"
   ]
  },
  {
   "cell_type": "code",
   "execution_count": 6,
   "id": "64b3521a",
   "metadata": {
    "ExecuteTime": {
     "end_time": "2022-09-19T07:56:15.149342Z",
     "start_time": "2022-09-19T07:56:15.039946Z"
    }
   },
   "outputs": [
    {
     "data": {
      "text/html": [
       "<div>\n",
       "<style scoped>\n",
       "    .dataframe tbody tr th:only-of-type {\n",
       "        vertical-align: middle;\n",
       "    }\n",
       "\n",
       "    .dataframe tbody tr th {\n",
       "        vertical-align: top;\n",
       "    }\n",
       "\n",
       "    .dataframe thead th {\n",
       "        text-align: right;\n",
       "    }\n",
       "</style>\n",
       "<table border=\"1\" class=\"dataframe\">\n",
       "  <thead>\n",
       "    <tr style=\"text-align: right;\">\n",
       "      <th></th>\n",
       "      <th>longitude</th>\n",
       "      <th>latitude</th>\n",
       "      <th>housing_median_age</th>\n",
       "      <th>total_rooms</th>\n",
       "      <th>total_bedrooms</th>\n",
       "      <th>population</th>\n",
       "      <th>households</th>\n",
       "      <th>median_income</th>\n",
       "      <th>median_house_value</th>\n",
       "    </tr>\n",
       "  </thead>\n",
       "  <tbody>\n",
       "    <tr>\n",
       "      <th>0</th>\n",
       "      <td>-122.23</td>\n",
       "      <td>37.88</td>\n",
       "      <td>41.0</td>\n",
       "      <td>880.0</td>\n",
       "      <td>129.0</td>\n",
       "      <td>322.0</td>\n",
       "      <td>126.0</td>\n",
       "      <td>8.3252</td>\n",
       "      <td>452600.0</td>\n",
       "    </tr>\n",
       "    <tr>\n",
       "      <th>1</th>\n",
       "      <td>-122.22</td>\n",
       "      <td>37.86</td>\n",
       "      <td>21.0</td>\n",
       "      <td>7099.0</td>\n",
       "      <td>1106.0</td>\n",
       "      <td>2401.0</td>\n",
       "      <td>1138.0</td>\n",
       "      <td>8.3014</td>\n",
       "      <td>358500.0</td>\n",
       "    </tr>\n",
       "    <tr>\n",
       "      <th>2</th>\n",
       "      <td>-122.24</td>\n",
       "      <td>37.85</td>\n",
       "      <td>52.0</td>\n",
       "      <td>1467.0</td>\n",
       "      <td>190.0</td>\n",
       "      <td>496.0</td>\n",
       "      <td>177.0</td>\n",
       "      <td>7.2574</td>\n",
       "      <td>352100.0</td>\n",
       "    </tr>\n",
       "    <tr>\n",
       "      <th>3</th>\n",
       "      <td>-122.25</td>\n",
       "      <td>37.85</td>\n",
       "      <td>52.0</td>\n",
       "      <td>1274.0</td>\n",
       "      <td>235.0</td>\n",
       "      <td>558.0</td>\n",
       "      <td>219.0</td>\n",
       "      <td>5.6431</td>\n",
       "      <td>341300.0</td>\n",
       "    </tr>\n",
       "    <tr>\n",
       "      <th>4</th>\n",
       "      <td>-122.25</td>\n",
       "      <td>37.85</td>\n",
       "      <td>52.0</td>\n",
       "      <td>1627.0</td>\n",
       "      <td>280.0</td>\n",
       "      <td>565.0</td>\n",
       "      <td>259.0</td>\n",
       "      <td>3.8462</td>\n",
       "      <td>342200.0</td>\n",
       "    </tr>\n",
       "  </tbody>\n",
       "</table>\n",
       "</div>"
      ],
      "text/plain": [
       "   longitude  latitude  housing_median_age  total_rooms  total_bedrooms  \\\n",
       "0    -122.23     37.88                41.0        880.0           129.0   \n",
       "1    -122.22     37.86                21.0       7099.0          1106.0   \n",
       "2    -122.24     37.85                52.0       1467.0           190.0   \n",
       "3    -122.25     37.85                52.0       1274.0           235.0   \n",
       "4    -122.25     37.85                52.0       1627.0           280.0   \n",
       "\n",
       "   population  households  median_income  median_house_value  \n",
       "0       322.0       126.0         8.3252            452600.0  \n",
       "1      2401.0      1138.0         8.3014            358500.0  \n",
       "2       496.0       177.0         7.2574            352100.0  \n",
       "3       558.0       219.0         5.6431            341300.0  \n",
       "4       565.0       259.0         3.8462            342200.0  "
      ]
     },
     "execution_count": 6,
     "metadata": {},
     "output_type": "execute_result"
    }
   ],
   "source": [
    "# Feature selection\n",
    "data = house_data.drop(['ocean_proximity'], axis=1)\n",
    "data.head()"
   ]
  },
  {
   "cell_type": "markdown",
   "id": "b9bb17d3",
   "metadata": {},
   "source": [
    "**Question 1** - Find a feature with missing values. How many missing values does it have?"
   ]
  },
  {
   "cell_type": "code",
   "execution_count": 7,
   "id": "85ae0904",
   "metadata": {
    "ExecuteTime": {
     "end_time": "2022-09-19T07:56:15.243121Z",
     "start_time": "2022-09-19T07:56:15.149342Z"
    }
   },
   "outputs": [
    {
     "data": {
      "text/plain": [
       "longitude               0\n",
       "latitude                0\n",
       "housing_median_age      0\n",
       "total_rooms             0\n",
       "total_bedrooms        207\n",
       "population              0\n",
       "households              0\n",
       "median_income           0\n",
       "median_house_value      0\n",
       "dtype: int64"
      ]
     },
     "execution_count": 7,
     "metadata": {},
     "output_type": "execute_result"
    }
   ],
   "source": [
    "data.isnull().sum()"
   ]
  },
  {
   "cell_type": "markdown",
   "id": "5f1177dc",
   "metadata": {},
   "source": [
    "**Question 2** -  What's the median (50% percentile) for variable 'population'?"
   ]
  },
  {
   "cell_type": "code",
   "execution_count": 8,
   "id": "4b6df25e",
   "metadata": {
    "ExecuteTime": {
     "end_time": "2022-09-19T07:56:15.321283Z",
     "start_time": "2022-09-19T07:56:15.243121Z"
    }
   },
   "outputs": [
    {
     "data": {
      "text/plain": [
       "1166.0"
      ]
     },
     "execution_count": 8,
     "metadata": {},
     "output_type": "execute_result"
    }
   ],
   "source": [
    "data['population'].median()"
   ]
  },
  {
   "cell_type": "markdown",
   "id": "24902522",
   "metadata": {
    "ExecuteTime": {
     "end_time": "2022-09-19T06:14:04.252386Z",
     "start_time": "2022-09-19T06:14:04.091877Z"
    }
   },
   "source": [
    "### Split the data\n",
    "- Shuffle the initial dataset, use seed 42.\n",
    "- Split your data in train/val/test sets, with 60%/20%/20% distribution.\n",
    "- Make sure that the target value ('median_house_value') is not in your dataframe.\n",
    "- Apply the log transformation to the median_house_value variable using the np.log1p() function."
   ]
  },
  {
   "cell_type": "code",
   "execution_count": 9,
   "id": "1ef60de7",
   "metadata": {
    "ExecuteTime": {
     "end_time": "2022-09-19T07:56:15.415066Z",
     "start_time": "2022-09-19T07:56:15.321283Z"
    }
   },
   "outputs": [],
   "source": [
    "# Split the data\n",
    "X = data.drop(columns=['median_house_value'], axis=1)\n",
    "y = data['median_house_value']\n",
    "\n",
    "# log transformation of y\n",
    "y = np.log1p(y)"
   ]
  },
  {
   "cell_type": "code",
   "execution_count": 10,
   "id": "7c547cb9",
   "metadata": {
    "ExecuteTime": {
     "end_time": "2022-09-19T07:56:15.509183Z",
     "start_time": "2022-09-19T07:56:15.415066Z"
    }
   },
   "outputs": [],
   "source": [
    "# Number of instances\n",
    "n = X.shape[0]\n",
    "n_test = int(n*0.2)\n",
    "n_val = int(n*0.2)\n",
    "n_train = int(n - n_test - n_val)"
   ]
  },
  {
   "cell_type": "code",
   "execution_count": 11,
   "id": "438a0280",
   "metadata": {
    "ExecuteTime": {
     "end_time": "2022-09-19T07:56:15.587340Z",
     "start_time": "2022-09-19T07:56:15.509183Z"
    }
   },
   "outputs": [],
   "source": [
    "# Create index array.\n",
    "idx = np.array(X.index)\n",
    "\n",
    "# shuffle the array.\n",
    "np.random.seed(42)\n",
    "np.random.shuffle(idx)"
   ]
  },
  {
   "cell_type": "code",
   "execution_count": 12,
   "id": "6bcac986",
   "metadata": {
    "ExecuteTime": {
     "end_time": "2022-09-19T07:56:15.665484Z",
     "start_time": "2022-09-19T07:56:15.587340Z"
    }
   },
   "outputs": [],
   "source": [
    "# Splitting data into training, validation and test dataset in ratio 60:20:20 for both X and y.\n",
    "\n",
    "X_train = X.loc[idx[:n_train]].reset_index(drop=True)\n",
    "X_val = X.loc[idx[n_train: n_train+n_val]].reset_index(drop=True)\n",
    "X_test = X.loc[idx[n_train+n_val:]].reset_index(drop=True)\n",
    "\n",
    "y_train = y.loc[idx[:n_train]].values\n",
    "y_val = y.loc[idx[n_train: n_train+n_val]].values\n",
    "y_test = y.loc[idx[n_train+n_val:]].values"
   ]
  },
  {
   "cell_type": "code",
   "execution_count": 13,
   "id": "19ff2a27",
   "metadata": {
    "ExecuteTime": {
     "end_time": "2022-09-19T07:56:15.743271Z",
     "start_time": "2022-09-19T07:56:15.665484Z"
    }
   },
   "outputs": [],
   "source": [
    "# Linear Regression model\n",
    "def linear_model(X, y):\n",
    "    ones = np.ones(X.shape[0])\n",
    "    X = np.column_stack([ones, X])\n",
    "    \n",
    "    XTX = X.T.dot(X)\n",
    "    XTX_inv = np.linalg.inv(XTX)\n",
    "    \n",
    "    w = XTX_inv.dot(X.T).dot(y)\n",
    "    return w[0], w[1:]"
   ]
  },
  {
   "cell_type": "code",
   "execution_count": 14,
   "id": "922652ae",
   "metadata": {
    "ExecuteTime": {
     "end_time": "2022-09-19T07:56:15.821784Z",
     "start_time": "2022-09-19T07:56:15.743271Z"
    }
   },
   "outputs": [],
   "source": [
    "# Model evaluation - Root mean squared error\n",
    "def rmse(y_true, y_preds):\n",
    "    error = y_true - y_preds\n",
    "    sq_err = error**2\n",
    "    return np.sqrt(np.mean(sq_err))"
   ]
  },
  {
   "cell_type": "markdown",
   "id": "bd8c9eaf",
   "metadata": {},
   "source": [
    "**Question 3**\n",
    "- We need to deal with missing values for the column from Q1.\n",
    "- We have two options: fill it with 0 or with the mean of this variable.\n",
    "- Try both options. For each, train a linear regression model without regularization using the code from the lessons.\n",
    "- For computing the mean, use the training only!\n",
    "- Use the validation dataset to evaluate the models and compare the RMSE of each option.\n",
    "- Round the RMSE scores to 2 decimal digits using round(score, 2)\n",
    "- Which option gives better RMSE?"
   ]
  },
  {
   "cell_type": "code",
   "execution_count": 15,
   "id": "7033250d",
   "metadata": {
    "ExecuteTime": {
     "end_time": "2022-09-19T07:56:16.103210Z",
     "start_time": "2022-09-19T07:56:15.821784Z"
    }
   },
   "outputs": [
    {
     "name": "stdout",
     "output_type": "stream",
     "text": [
      "RSME Score with values 0:: 0.33\n"
     ]
    }
   ],
   "source": [
    "# Handling missing values in column 'total_bedrooms'.\n",
    "\n",
    "# first- fill missing values with values '0'.\n",
    "X_train_0 = X_train.copy()\n",
    "X_train_0['total_bedrooms'] = X_train_0['total_bedrooms'].fillna(value=0)\n",
    "\n",
    "X_val_0 = X_val.copy()\n",
    "X_val_0['total_bedrooms'] = X_val_0['total_bedrooms'].fillna(value=0)\n",
    "\n",
    "\n",
    "# train the model\n",
    "w0, w = linear_model(X_train_0, y_train)\n",
    "\n",
    "# predictions for validation data\n",
    "y_preds = w0 + X_val_0.dot(w)\n",
    "\n",
    "# compute the error\n",
    "score = rmse(y_val, y_preds)\n",
    "print(\"RSME Score with values 0::\", round(score, 2))"
   ]
  },
  {
   "cell_type": "code",
   "execution_count": 16,
   "id": "261baaf7",
   "metadata": {
    "ExecuteTime": {
     "end_time": "2022-09-19T07:56:16.196533Z",
     "start_time": "2022-09-19T07:56:16.103210Z"
    }
   },
   "outputs": [
    {
     "name": "stdout",
     "output_type": "stream",
     "text": [
      "RMSE Score with mean value:: 0.33\n"
     ]
    }
   ],
   "source": [
    "# first- fill missing values with values it's mean.\n",
    "X_train_mean = X_train.copy()\n",
    "X_val_mean = X_val.copy()\n",
    "\n",
    "mean_val = X_train_mean['total_bedrooms'].mean()\n",
    "X_train_mean['total_bedrooms'] = X_train_mean['total_bedrooms'].fillna(value=mean_val)\n",
    "X_val_mean['total_bedrooms'] = X_val_mean['total_bedrooms'].fillna(value=mean_val)\n",
    "\n",
    "# train the model\n",
    "w0, w = linear_model(X_train_mean, y_train)\n",
    "\n",
    "# predictions on validation data\n",
    "y_preds = w0 + X_val_mean.dot(w)\n",
    "\n",
    "# compute the error\n",
    "score = rmse(y_val, y_preds)\n",
    "print(\"RMSE Score with mean value::\", round(score, 2))"
   ]
  },
  {
   "cell_type": "markdown",
   "id": "ac5aedf3",
   "metadata": {},
   "source": [
    "**Question 4**\n",
    "- Now let's train a regularized linear regression.\n",
    "- For this question, fill the NAs with 0.\n",
    "- Try different values of r from this list: [0, 0.000001, 0.0001, 0.001, 0.01, 0.1, 1, 5, 10].\n",
    "- Use RMSE to evaluate the model on the validation dataset.\n",
    "- Round the RMSE scores to 2 decimal digits.\n",
    "- Which r gives the best RMSE?"
   ]
  },
  {
   "cell_type": "code",
   "execution_count": 17,
   "id": "e83ea9ae",
   "metadata": {
    "ExecuteTime": {
     "end_time": "2022-09-19T07:56:16.337742Z",
     "start_time": "2022-09-19T07:56:16.196533Z"
    }
   },
   "outputs": [],
   "source": [
    "# Regularization \n",
    "def linear_model_reg(X, y, r=0.001):\n",
    "    ones = np.ones(X.shape[0])\n",
    "    X = np.column_stack([ones, X])\n",
    "    \n",
    "    XTX = X.T.dot(X)\n",
    "    XTX = XTX + r * np.eye(XTX.shape[0])\n",
    "    XTX_inv = np.linalg.inv(XTX)\n",
    "    \n",
    "    w = XTX_inv.dot(X.T).dot(y)\n",
    "    return w[0], w[1:]"
   ]
  },
  {
   "cell_type": "code",
   "execution_count": 18,
   "id": "ed9a1006",
   "metadata": {
    "ExecuteTime": {
     "end_time": "2022-09-19T07:56:16.446611Z",
     "start_time": "2022-09-19T07:56:16.337742Z"
    }
   },
   "outputs": [
    {
     "name": "stdout",
     "output_type": "stream",
     "text": [
      "r: 0.000000, RSME Score: 0.33\n",
      "r: 0.000001, RSME Score: 0.33\n",
      "r: 0.000100, RSME Score: 0.33\n",
      "r: 0.001000, RSME Score: 0.33\n",
      "r: 0.010000, RSME Score: 0.33\n",
      "r: 0.100000, RSME Score: 0.33\n",
      "r: 1.000000, RSME Score: 0.33\n",
      "r: 5.000000, RSME Score: 0.34\n",
      "r: 10.000000, RSME Score: 0.34\n"
     ]
    }
   ],
   "source": [
    "# Computing root mean squared error with different r values.\n",
    "r_values = [0, 0.000001, 0.0001, 0.001, 0.01, 0.1, 1, 5, 10]\n",
    "\n",
    "for r in r_values:\n",
    "    \n",
    "    w0, w = linear_model_reg(X_train_0, y_train, r)\n",
    "    y_preds = w0 + X_val_0.dot(w)\n",
    "    score = rmse(y_val, y_preds)\n",
    "    print(\"r: %f, RSME Score: %.2f\" % (r, score))"
   ]
  },
  {
   "cell_type": "markdown",
   "id": "0ea23400",
   "metadata": {},
   "source": [
    "**Question 5**\n",
    "- We used seed 42 for splitting the data. Let's find out how selecting the seed influences our score.\n",
    "- Try different seed values: [0, 1, 2, 3, 4, 5, 6, 7, 8, 9].\n",
    "- For each seed, do the train/validation/test split with 60%/20%/20% distribution.\n",
    "- Fill the missing values with 0 and train a model without regularization.\n",
    "- For each seed, evaluate the model on the validation dataset and collect the RMSE scores.\n",
    "- What's the standard deviation of all the scores? To compute the standard deviation, use np.std.\n",
    "- Round the result to 3 decimal digits (round(std, 3))"
   ]
  },
  {
   "cell_type": "code",
   "execution_count": 19,
   "id": "e1a41413",
   "metadata": {
    "ExecuteTime": {
     "end_time": "2022-09-19T07:56:16.618536Z",
     "start_time": "2022-09-19T07:56:16.446611Z"
    }
   },
   "outputs": [
    {
     "name": "stdout",
     "output_type": "stream",
     "text": [
      "[0.36, 0.35, 0.35, 0.34, 0.35, 0.33, 0.35, 0.34, 0.34, 0.34]\n",
      "0.008\n"
     ]
    }
   ],
   "source": [
    "seeds = [0, 1, 2, 3, 4, 5, 6, 7, 8, 9]\n",
    "scores = []\n",
    "for s in seeds:\n",
    "    # shuffle the array.\n",
    "    np.random.seed(s)\n",
    "    np.random.shuffle(idx)\n",
    "    \n",
    "    # Splitting data into training, validation and test dataset in ratio 60:20:20 for both X and y.\n",
    "    X_train = X.loc[idx[:n_train]].reset_index(drop=True)\n",
    "    X_val = X.loc[idx[n_train: n_train+n_val]].reset_index(drop=True)\n",
    "    X_test = X.loc[idx[n_train+n_val:]].reset_index(drop=True)\n",
    "\n",
    "    y_train = y.loc[idx[:n_train]].values\n",
    "    y_val = y.loc[idx[n_train: n_train+n_val]].values\n",
    "    y_test = y.loc[idx[n_train+n_val:]].values\n",
    "    \n",
    "    # fill the missing value with '0'.\n",
    "    X_train_0 = X_train.copy()\n",
    "    X_val_0 = X_val.copy()\n",
    "    \n",
    "    X_train_0['total_bedrooms'].fillna(value=0, inplace=True)\n",
    "    X_val_0['total_bedrooms'].fillna(value=0, inplace=True)\n",
    "    \n",
    "    \n",
    "    # train model with training data\n",
    "    w0, w = linear_model(X_train_0, y_train)\n",
    "    \n",
    "    # evaluate the model using validation data.\n",
    "    y_val_predictions = w0 + X_val_0.dot(w)\n",
    "    \n",
    "    # compute rmse\n",
    "    score = rmse(y_val, y_val_predictions)\n",
    "    scores.append(round(score, 2))\n",
    "    \n",
    "    \n",
    "print(scores)\n",
    "print(round(np.std(scores), 3))"
   ]
  },
  {
   "cell_type": "markdown",
   "id": "7171a81d",
   "metadata": {},
   "source": [
    "**Question 6**\n",
    "- Split the dataset like previously, use seed 9.\n",
    "- Combine train and validation datasets.\n",
    "- Fill the missing values with 0 and train a model with r=0.001.\n",
    "- What's the RMSE on the test dataset?"
   ]
  },
  {
   "cell_type": "code",
   "execution_count": 20,
   "id": "c52ea6f3",
   "metadata": {
    "ExecuteTime": {
     "end_time": "2022-09-19T07:56:16.649792Z",
     "start_time": "2022-09-19T07:56:16.618536Z"
    }
   },
   "outputs": [
    {
     "name": "stdout",
     "output_type": "stream",
     "text": [
      "RMSE Score:: 0.34\n"
     ]
    }
   ],
   "source": [
    " # shuffle the index array with seed 9 and split the data.\n",
    "np.random.seed(9)\n",
    "np.random.shuffle(idx)\n",
    "    \n",
    "# Splitting data into training, validation and test dataset in ratio 60:20:20 for both X and y.\n",
    "X_train = X.loc[idx[:n_train]].reset_index(drop=True)\n",
    "X_val = X.loc[idx[n_train: n_train+n_val]].reset_index(drop=True)\n",
    "X_test = X.loc[idx[n_train+n_val:]].reset_index(drop=True)\n",
    "\n",
    "y_train = y.loc[idx[:n_train]]\n",
    "y_val = y.loc[idx[n_train: n_train+n_val]]\n",
    "y_test = y.loc[idx[n_train+n_val:]]\n",
    "\n",
    "# Combine train and validation datasets.\n",
    "X_train = pd.concat([X_train, X_val], axis=0)\n",
    "y_train = pd.concat([y_train, y_val], axis=0).values\n",
    "\n",
    "# fill the missing values with 0\n",
    "X_train['total_bedrooms'].fillna(value=0, inplace=True)\n",
    "w0, w = linear_model_reg(X_train, y_train, r=0.001)\n",
    "\n",
    "# predictions\n",
    "y_preds = w0 + X_train.dot(w)\n",
    "\n",
    "# RMSE\n",
    "print(\"RMSE Score::\", round(rmse(y_train, y_preds), 3))"
   ]
  },
  {
   "cell_type": "code",
   "execution_count": null,
   "id": "645f0599",
   "metadata": {},
   "outputs": [],
   "source": []
  }
 ],
 "metadata": {
  "hide_input": false,
  "kernelspec": {
   "display_name": "Python 3.9.7 ('venv': venv)",
   "language": "python",
   "name": "python3"
  },
  "language_info": {
   "codemirror_mode": {
    "name": "ipython",
    "version": 3
   },
   "file_extension": ".py",
   "mimetype": "text/x-python",
   "name": "python",
   "nbconvert_exporter": "python",
   "pygments_lexer": "ipython3",
   "version": "3.9.7"
  },
  "vscode": {
   "interpreter": {
    "hash": "ae13a35c1b5fd357786d1c14fdd50ced54d79dc643ef2321f5eda5225c2dd5f9"
   }
  }
 },
 "nbformat": 4,
 "nbformat_minor": 5
}
