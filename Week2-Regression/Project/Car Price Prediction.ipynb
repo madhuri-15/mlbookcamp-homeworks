{
 "cells": [
  {
   "cell_type": "markdown",
   "metadata": {},
   "source": [
    "# Car Price Prediction\n",
    "#### Project Objective\n",
    "\n",
    "- ✔ Prepare data and Exploratory data analysis (EDA)\n",
    "- ✔ Use linear regression for predicting price\n",
    "- ✔ Understanding the internals of linear regression\n",
    "- ✔ Evaluating the model with RMSE\n",
    "- Feature engineering\n",
    "- Regularization\n",
    "- Use the model"
   ]
  },
  {
   "cell_type": "code",
   "execution_count": 1,
   "metadata": {
    "ExecuteTime": {
     "end_time": "2022-09-18T17:43:01.159517Z",
     "start_time": "2022-09-18T17:42:59.607956Z"
    },
    "_cell_guid": "b1076dfc-b9ad-4769-8c92-a6c4dae69d19",
    "_uuid": "8f2839f25d086af736a60e9eeb907d3b93b6e0e5",
    "execution": {
     "iopub.execute_input": "2022-09-12T18:44:40.374201Z",
     "iopub.status.busy": "2022-09-12T18:44:40.373717Z",
     "iopub.status.idle": "2022-09-12T18:44:40.388280Z",
     "shell.execute_reply": "2022-09-12T18:44:40.386963Z",
     "shell.execute_reply.started": "2022-09-12T18:44:40.374163Z"
    }
   },
   "outputs": [],
   "source": [
    "# Importing libraries.\n",
    "import pandas as pd\n",
    "import numpy as np\n",
    "\n",
    "# for visualization\n",
    "import matplotlib.pyplot as plt\n",
    "import seaborn as sns\n",
    "%matplotlib inline\n",
    "\n",
    "# plot style setup\n",
    "plt.style.use(\"tableau-colorblind10\")"
   ]
  },
  {
   "cell_type": "code",
   "execution_count": 2,
   "metadata": {
    "ExecuteTime": {
     "end_time": "2022-09-18T17:43:02.873399Z",
     "start_time": "2022-09-18T17:43:02.825292Z"
    },
    "execution": {
     "iopub.execute_input": "2022-09-12T17:38:55.848883Z",
     "iopub.status.busy": "2022-09-12T17:38:55.848460Z",
     "iopub.status.idle": "2022-09-12T17:38:55.910758Z",
     "shell.execute_reply": "2022-09-12T17:38:55.909697Z",
     "shell.execute_reply.started": "2022-09-12T17:38:55.848850Z"
    }
   },
   "outputs": [],
   "source": [
    "# Reading data into pandas dataframe using `read_csv()` method of pandas.\n",
    "car_data = pd.read_csv(\"data/data.csv\")"
   ]
  },
  {
   "cell_type": "code",
   "execution_count": 3,
   "metadata": {
    "ExecuteTime": {
     "end_time": "2022-09-18T17:43:03.090363Z",
     "start_time": "2022-09-18T17:43:03.078151Z"
    },
    "execution": {
     "iopub.execute_input": "2022-09-12T17:39:27.417919Z",
     "iopub.status.busy": "2022-09-12T17:39:27.416875Z",
     "iopub.status.idle": "2022-09-12T17:39:27.425377Z",
     "shell.execute_reply": "2022-09-12T17:39:27.424193Z",
     "shell.execute_reply.started": "2022-09-12T17:39:27.417810Z"
    }
   },
   "outputs": [
    {
     "name": "stdout",
     "output_type": "stream",
     "text": [
      "Shape:: (11914, 16)\n"
     ]
    }
   ],
   "source": [
    "# Shape of the data\n",
    "print(\"Shape::\", car_data.shape)"
   ]
  },
  {
   "cell_type": "markdown",
   "metadata": {},
   "source": [
    "# Data Preparation"
   ]
  },
  {
   "cell_type": "code",
   "execution_count": 4,
   "metadata": {
    "ExecuteTime": {
     "end_time": "2022-09-18T17:43:03.509078Z",
     "start_time": "2022-09-18T17:43:03.469810Z"
    },
    "execution": {
     "iopub.execute_input": "2022-09-12T17:40:11.370214Z",
     "iopub.status.busy": "2022-09-12T17:40:11.369592Z",
     "iopub.status.idle": "2022-09-12T17:40:11.392762Z",
     "shell.execute_reply": "2022-09-12T17:40:11.391435Z",
     "shell.execute_reply.started": "2022-09-12T17:40:11.370173Z"
    }
   },
   "outputs": [
    {
     "data": {
      "text/html": [
       "<div>\n",
       "<style scoped>\n",
       "    .dataframe tbody tr th:only-of-type {\n",
       "        vertical-align: middle;\n",
       "    }\n",
       "\n",
       "    .dataframe tbody tr th {\n",
       "        vertical-align: top;\n",
       "    }\n",
       "\n",
       "    .dataframe thead th {\n",
       "        text-align: right;\n",
       "    }\n",
       "</style>\n",
       "<table border=\"1\" class=\"dataframe\">\n",
       "  <thead>\n",
       "    <tr style=\"text-align: right;\">\n",
       "      <th></th>\n",
       "      <th>Make</th>\n",
       "      <th>Model</th>\n",
       "      <th>Year</th>\n",
       "      <th>Engine Fuel Type</th>\n",
       "      <th>Engine HP</th>\n",
       "      <th>Engine Cylinders</th>\n",
       "      <th>Transmission Type</th>\n",
       "      <th>Driven_Wheels</th>\n",
       "      <th>Number of Doors</th>\n",
       "      <th>Market Category</th>\n",
       "      <th>Vehicle Size</th>\n",
       "      <th>Vehicle Style</th>\n",
       "      <th>highway MPG</th>\n",
       "      <th>city mpg</th>\n",
       "      <th>Popularity</th>\n",
       "      <th>MSRP</th>\n",
       "    </tr>\n",
       "  </thead>\n",
       "  <tbody>\n",
       "    <tr>\n",
       "      <th>0</th>\n",
       "      <td>BMW</td>\n",
       "      <td>1 Series M</td>\n",
       "      <td>2011</td>\n",
       "      <td>premium unleaded (required)</td>\n",
       "      <td>335.0</td>\n",
       "      <td>6.0</td>\n",
       "      <td>MANUAL</td>\n",
       "      <td>rear wheel drive</td>\n",
       "      <td>2.0</td>\n",
       "      <td>Factory Tuner,Luxury,High-Performance</td>\n",
       "      <td>Compact</td>\n",
       "      <td>Coupe</td>\n",
       "      <td>26</td>\n",
       "      <td>19</td>\n",
       "      <td>3916</td>\n",
       "      <td>46135</td>\n",
       "    </tr>\n",
       "    <tr>\n",
       "      <th>1</th>\n",
       "      <td>BMW</td>\n",
       "      <td>1 Series</td>\n",
       "      <td>2011</td>\n",
       "      <td>premium unleaded (required)</td>\n",
       "      <td>300.0</td>\n",
       "      <td>6.0</td>\n",
       "      <td>MANUAL</td>\n",
       "      <td>rear wheel drive</td>\n",
       "      <td>2.0</td>\n",
       "      <td>Luxury,Performance</td>\n",
       "      <td>Compact</td>\n",
       "      <td>Convertible</td>\n",
       "      <td>28</td>\n",
       "      <td>19</td>\n",
       "      <td>3916</td>\n",
       "      <td>40650</td>\n",
       "    </tr>\n",
       "    <tr>\n",
       "      <th>2</th>\n",
       "      <td>BMW</td>\n",
       "      <td>1 Series</td>\n",
       "      <td>2011</td>\n",
       "      <td>premium unleaded (required)</td>\n",
       "      <td>300.0</td>\n",
       "      <td>6.0</td>\n",
       "      <td>MANUAL</td>\n",
       "      <td>rear wheel drive</td>\n",
       "      <td>2.0</td>\n",
       "      <td>Luxury,High-Performance</td>\n",
       "      <td>Compact</td>\n",
       "      <td>Coupe</td>\n",
       "      <td>28</td>\n",
       "      <td>20</td>\n",
       "      <td>3916</td>\n",
       "      <td>36350</td>\n",
       "    </tr>\n",
       "    <tr>\n",
       "      <th>3</th>\n",
       "      <td>BMW</td>\n",
       "      <td>1 Series</td>\n",
       "      <td>2011</td>\n",
       "      <td>premium unleaded (required)</td>\n",
       "      <td>230.0</td>\n",
       "      <td>6.0</td>\n",
       "      <td>MANUAL</td>\n",
       "      <td>rear wheel drive</td>\n",
       "      <td>2.0</td>\n",
       "      <td>Luxury,Performance</td>\n",
       "      <td>Compact</td>\n",
       "      <td>Coupe</td>\n",
       "      <td>28</td>\n",
       "      <td>18</td>\n",
       "      <td>3916</td>\n",
       "      <td>29450</td>\n",
       "    </tr>\n",
       "    <tr>\n",
       "      <th>4</th>\n",
       "      <td>BMW</td>\n",
       "      <td>1 Series</td>\n",
       "      <td>2011</td>\n",
       "      <td>premium unleaded (required)</td>\n",
       "      <td>230.0</td>\n",
       "      <td>6.0</td>\n",
       "      <td>MANUAL</td>\n",
       "      <td>rear wheel drive</td>\n",
       "      <td>2.0</td>\n",
       "      <td>Luxury</td>\n",
       "      <td>Compact</td>\n",
       "      <td>Convertible</td>\n",
       "      <td>28</td>\n",
       "      <td>18</td>\n",
       "      <td>3916</td>\n",
       "      <td>34500</td>\n",
       "    </tr>\n",
       "  </tbody>\n",
       "</table>\n",
       "</div>"
      ],
      "text/plain": [
       "  Make       Model  Year             Engine Fuel Type  Engine HP  \\\n",
       "0  BMW  1 Series M  2011  premium unleaded (required)      335.0   \n",
       "1  BMW    1 Series  2011  premium unleaded (required)      300.0   \n",
       "2  BMW    1 Series  2011  premium unleaded (required)      300.0   \n",
       "3  BMW    1 Series  2011  premium unleaded (required)      230.0   \n",
       "4  BMW    1 Series  2011  premium unleaded (required)      230.0   \n",
       "\n",
       "   Engine Cylinders Transmission Type     Driven_Wheels  Number of Doors  \\\n",
       "0               6.0            MANUAL  rear wheel drive              2.0   \n",
       "1               6.0            MANUAL  rear wheel drive              2.0   \n",
       "2               6.0            MANUAL  rear wheel drive              2.0   \n",
       "3               6.0            MANUAL  rear wheel drive              2.0   \n",
       "4               6.0            MANUAL  rear wheel drive              2.0   \n",
       "\n",
       "                         Market Category Vehicle Size Vehicle Style  \\\n",
       "0  Factory Tuner,Luxury,High-Performance      Compact         Coupe   \n",
       "1                     Luxury,Performance      Compact   Convertible   \n",
       "2                Luxury,High-Performance      Compact         Coupe   \n",
       "3                     Luxury,Performance      Compact         Coupe   \n",
       "4                                 Luxury      Compact   Convertible   \n",
       "\n",
       "   highway MPG  city mpg  Popularity   MSRP  \n",
       "0           26        19        3916  46135  \n",
       "1           28        19        3916  40650  \n",
       "2           28        20        3916  36350  \n",
       "3           28        18        3916  29450  \n",
       "4           28        18        3916  34500  "
      ]
     },
     "execution_count": 4,
     "metadata": {},
     "output_type": "execute_result"
    }
   ],
   "source": [
    "# view first five rows.\n",
    "car_data.head()"
   ]
  },
  {
   "cell_type": "code",
   "execution_count": 5,
   "metadata": {
    "ExecuteTime": {
     "end_time": "2022-09-18T17:43:03.681305Z",
     "start_time": "2022-09-18T17:43:03.665303Z"
    },
    "execution": {
     "iopub.execute_input": "2022-09-12T17:59:43.586486Z",
     "iopub.status.busy": "2022-09-12T17:59:43.586054Z",
     "iopub.status.idle": "2022-09-12T17:59:43.592578Z",
     "shell.execute_reply": "2022-09-12T17:59:43.591460Z",
     "shell.execute_reply.started": "2022-09-12T17:59:43.586449Z"
    }
   },
   "outputs": [
    {
     "name": "stdout",
     "output_type": "stream",
     "text": [
      "Columns:: ['Make', 'Model', 'Year', 'Engine Fuel Type', 'Engine HP', 'Engine Cylinders', 'Transmission Type', 'Driven_Wheels', 'Number of Doors', 'Market Category', 'Vehicle Size', 'Vehicle Style', 'highway MPG', 'city mpg', 'Popularity', 'MSRP']\n"
     ]
    }
   ],
   "source": [
    "# columns of dataframe\n",
    "print(\"Columns::\", car_data.columns.tolist())"
   ]
  },
  {
   "cell_type": "code",
   "execution_count": 6,
   "metadata": {
    "ExecuteTime": {
     "end_time": "2022-09-18T17:43:03.853635Z",
     "start_time": "2022-09-18T17:43:03.840628Z"
    },
    "execution": {
     "iopub.execute_input": "2022-09-12T18:02:45.206482Z",
     "iopub.status.busy": "2022-09-12T18:02:45.206083Z",
     "iopub.status.idle": "2022-09-12T18:02:45.212819Z",
     "shell.execute_reply": "2022-09-12T18:02:45.211653Z",
     "shell.execute_reply.started": "2022-09-12T18:02:45.206450Z"
    }
   },
   "outputs": [],
   "source": [
    "# clean up the columns name.\n",
    "car_data.columns = car_data.columns.str.lower()\n",
    "car_data.columns = car_data.columns.str.replace(\" \", \"_\")"
   ]
  },
  {
   "cell_type": "code",
   "execution_count": 7,
   "metadata": {
    "ExecuteTime": {
     "end_time": "2022-09-18T17:43:04.089092Z",
     "start_time": "2022-09-18T17:43:04.062249Z"
    },
    "execution": {
     "iopub.execute_input": "2022-09-12T19:07:40.440274Z",
     "iopub.status.busy": "2022-09-12T19:07:40.439480Z",
     "iopub.status.idle": "2022-09-12T19:07:40.458766Z",
     "shell.execute_reply": "2022-09-12T19:07:40.457362Z",
     "shell.execute_reply.started": "2022-09-12T19:07:40.440229Z"
    }
   },
   "outputs": [
    {
     "data": {
      "text/html": [
       "<div>\n",
       "<style scoped>\n",
       "    .dataframe tbody tr th:only-of-type {\n",
       "        vertical-align: middle;\n",
       "    }\n",
       "\n",
       "    .dataframe tbody tr th {\n",
       "        vertical-align: top;\n",
       "    }\n",
       "\n",
       "    .dataframe thead th {\n",
       "        text-align: right;\n",
       "    }\n",
       "</style>\n",
       "<table border=\"1\" class=\"dataframe\">\n",
       "  <thead>\n",
       "    <tr style=\"text-align: right;\">\n",
       "      <th></th>\n",
       "      <th>make</th>\n",
       "      <th>model</th>\n",
       "      <th>year</th>\n",
       "      <th>engine_fuel_type</th>\n",
       "      <th>engine_hp</th>\n",
       "      <th>engine_cylinders</th>\n",
       "      <th>transmission_type</th>\n",
       "      <th>driven_wheels</th>\n",
       "      <th>number_of_doors</th>\n",
       "      <th>market_category</th>\n",
       "      <th>vehicle_size</th>\n",
       "      <th>vehicle_style</th>\n",
       "      <th>highway_mpg</th>\n",
       "      <th>city_mpg</th>\n",
       "      <th>popularity</th>\n",
       "      <th>msrp</th>\n",
       "    </tr>\n",
       "  </thead>\n",
       "  <tbody>\n",
       "    <tr>\n",
       "      <th>0</th>\n",
       "      <td>BMW</td>\n",
       "      <td>1 Series M</td>\n",
       "      <td>2011</td>\n",
       "      <td>premium unleaded (required)</td>\n",
       "      <td>335.0</td>\n",
       "      <td>6.0</td>\n",
       "      <td>MANUAL</td>\n",
       "      <td>rear wheel drive</td>\n",
       "      <td>2.0</td>\n",
       "      <td>Factory Tuner,Luxury,High-Performance</td>\n",
       "      <td>Compact</td>\n",
       "      <td>Coupe</td>\n",
       "      <td>26</td>\n",
       "      <td>19</td>\n",
       "      <td>3916</td>\n",
       "      <td>46135</td>\n",
       "    </tr>\n",
       "    <tr>\n",
       "      <th>1</th>\n",
       "      <td>BMW</td>\n",
       "      <td>1 Series</td>\n",
       "      <td>2011</td>\n",
       "      <td>premium unleaded (required)</td>\n",
       "      <td>300.0</td>\n",
       "      <td>6.0</td>\n",
       "      <td>MANUAL</td>\n",
       "      <td>rear wheel drive</td>\n",
       "      <td>2.0</td>\n",
       "      <td>Luxury,Performance</td>\n",
       "      <td>Compact</td>\n",
       "      <td>Convertible</td>\n",
       "      <td>28</td>\n",
       "      <td>19</td>\n",
       "      <td>3916</td>\n",
       "      <td>40650</td>\n",
       "    </tr>\n",
       "    <tr>\n",
       "      <th>2</th>\n",
       "      <td>BMW</td>\n",
       "      <td>1 Series</td>\n",
       "      <td>2011</td>\n",
       "      <td>premium unleaded (required)</td>\n",
       "      <td>300.0</td>\n",
       "      <td>6.0</td>\n",
       "      <td>MANUAL</td>\n",
       "      <td>rear wheel drive</td>\n",
       "      <td>2.0</td>\n",
       "      <td>Luxury,High-Performance</td>\n",
       "      <td>Compact</td>\n",
       "      <td>Coupe</td>\n",
       "      <td>28</td>\n",
       "      <td>20</td>\n",
       "      <td>3916</td>\n",
       "      <td>36350</td>\n",
       "    </tr>\n",
       "    <tr>\n",
       "      <th>3</th>\n",
       "      <td>BMW</td>\n",
       "      <td>1 Series</td>\n",
       "      <td>2011</td>\n",
       "      <td>premium unleaded (required)</td>\n",
       "      <td>230.0</td>\n",
       "      <td>6.0</td>\n",
       "      <td>MANUAL</td>\n",
       "      <td>rear wheel drive</td>\n",
       "      <td>2.0</td>\n",
       "      <td>Luxury,Performance</td>\n",
       "      <td>Compact</td>\n",
       "      <td>Coupe</td>\n",
       "      <td>28</td>\n",
       "      <td>18</td>\n",
       "      <td>3916</td>\n",
       "      <td>29450</td>\n",
       "    </tr>\n",
       "    <tr>\n",
       "      <th>4</th>\n",
       "      <td>BMW</td>\n",
       "      <td>1 Series</td>\n",
       "      <td>2011</td>\n",
       "      <td>premium unleaded (required)</td>\n",
       "      <td>230.0</td>\n",
       "      <td>6.0</td>\n",
       "      <td>MANUAL</td>\n",
       "      <td>rear wheel drive</td>\n",
       "      <td>2.0</td>\n",
       "      <td>Luxury</td>\n",
       "      <td>Compact</td>\n",
       "      <td>Convertible</td>\n",
       "      <td>28</td>\n",
       "      <td>18</td>\n",
       "      <td>3916</td>\n",
       "      <td>34500</td>\n",
       "    </tr>\n",
       "  </tbody>\n",
       "</table>\n",
       "</div>"
      ],
      "text/plain": [
       "  make       model  year             engine_fuel_type  engine_hp  \\\n",
       "0  BMW  1 Series M  2011  premium unleaded (required)      335.0   \n",
       "1  BMW    1 Series  2011  premium unleaded (required)      300.0   \n",
       "2  BMW    1 Series  2011  premium unleaded (required)      300.0   \n",
       "3  BMW    1 Series  2011  premium unleaded (required)      230.0   \n",
       "4  BMW    1 Series  2011  premium unleaded (required)      230.0   \n",
       "\n",
       "   engine_cylinders transmission_type     driven_wheels  number_of_doors  \\\n",
       "0               6.0            MANUAL  rear wheel drive              2.0   \n",
       "1               6.0            MANUAL  rear wheel drive              2.0   \n",
       "2               6.0            MANUAL  rear wheel drive              2.0   \n",
       "3               6.0            MANUAL  rear wheel drive              2.0   \n",
       "4               6.0            MANUAL  rear wheel drive              2.0   \n",
       "\n",
       "                         market_category vehicle_size vehicle_style  \\\n",
       "0  Factory Tuner,Luxury,High-Performance      Compact         Coupe   \n",
       "1                     Luxury,Performance      Compact   Convertible   \n",
       "2                Luxury,High-Performance      Compact         Coupe   \n",
       "3                     Luxury,Performance      Compact         Coupe   \n",
       "4                                 Luxury      Compact   Convertible   \n",
       "\n",
       "   highway_mpg  city_mpg  popularity   msrp  \n",
       "0           26        19        3916  46135  \n",
       "1           28        19        3916  40650  \n",
       "2           28        20        3916  36350  \n",
       "3           28        18        3916  29450  \n",
       "4           28        18        3916  34500  "
      ]
     },
     "execution_count": 7,
     "metadata": {},
     "output_type": "execute_result"
    }
   ],
   "source": [
    "# view data\n",
    "car_data.head()"
   ]
  },
  {
   "cell_type": "code",
   "execution_count": 8,
   "metadata": {
    "ExecuteTime": {
     "end_time": "2022-09-18T17:43:04.340415Z",
     "start_time": "2022-09-18T17:43:04.235135Z"
    },
    "execution": {
     "iopub.execute_input": "2022-09-12T18:18:39.768841Z",
     "iopub.status.busy": "2022-09-12T18:18:39.767703Z",
     "iopub.status.idle": "2022-09-12T18:18:39.859653Z",
     "shell.execute_reply": "2022-09-12T18:18:39.858619Z",
     "shell.execute_reply.started": "2022-09-12T18:18:39.768798Z"
    }
   },
   "outputs": [],
   "source": [
    "# Let's change the case of the string values of columns to lower and replace space by '_'.\n",
    "\n",
    "# Categorical data\n",
    "categorical_cols = car_data.select_dtypes(include='object').columns.tolist()\n",
    "for col in categorical_cols:\n",
    "    car_data[col] = car_data[col].str.lower().str.replace(\" \", \"_\")"
   ]
  },
  {
   "cell_type": "code",
   "execution_count": 9,
   "metadata": {
    "ExecuteTime": {
     "end_time": "2022-09-18T17:43:04.435360Z",
     "start_time": "2022-09-18T17:43:04.415346Z"
    },
    "execution": {
     "iopub.execute_input": "2022-09-12T19:07:34.747915Z",
     "iopub.status.busy": "2022-09-12T19:07:34.747497Z",
     "iopub.status.idle": "2022-09-12T19:07:34.769300Z",
     "shell.execute_reply": "2022-09-12T19:07:34.768065Z",
     "shell.execute_reply.started": "2022-09-12T19:07:34.747882Z"
    }
   },
   "outputs": [
    {
     "data": {
      "text/html": [
       "<div>\n",
       "<style scoped>\n",
       "    .dataframe tbody tr th:only-of-type {\n",
       "        vertical-align: middle;\n",
       "    }\n",
       "\n",
       "    .dataframe tbody tr th {\n",
       "        vertical-align: top;\n",
       "    }\n",
       "\n",
       "    .dataframe thead th {\n",
       "        text-align: right;\n",
       "    }\n",
       "</style>\n",
       "<table border=\"1\" class=\"dataframe\">\n",
       "  <thead>\n",
       "    <tr style=\"text-align: right;\">\n",
       "      <th></th>\n",
       "      <th>0</th>\n",
       "      <th>1</th>\n",
       "      <th>2</th>\n",
       "      <th>3</th>\n",
       "      <th>4</th>\n",
       "    </tr>\n",
       "  </thead>\n",
       "  <tbody>\n",
       "    <tr>\n",
       "      <th>make</th>\n",
       "      <td>bmw</td>\n",
       "      <td>bmw</td>\n",
       "      <td>bmw</td>\n",
       "      <td>bmw</td>\n",
       "      <td>bmw</td>\n",
       "    </tr>\n",
       "    <tr>\n",
       "      <th>model</th>\n",
       "      <td>1_series_m</td>\n",
       "      <td>1_series</td>\n",
       "      <td>1_series</td>\n",
       "      <td>1_series</td>\n",
       "      <td>1_series</td>\n",
       "    </tr>\n",
       "    <tr>\n",
       "      <th>year</th>\n",
       "      <td>2011</td>\n",
       "      <td>2011</td>\n",
       "      <td>2011</td>\n",
       "      <td>2011</td>\n",
       "      <td>2011</td>\n",
       "    </tr>\n",
       "    <tr>\n",
       "      <th>engine_fuel_type</th>\n",
       "      <td>premium_unleaded_(required)</td>\n",
       "      <td>premium_unleaded_(required)</td>\n",
       "      <td>premium_unleaded_(required)</td>\n",
       "      <td>premium_unleaded_(required)</td>\n",
       "      <td>premium_unleaded_(required)</td>\n",
       "    </tr>\n",
       "    <tr>\n",
       "      <th>engine_hp</th>\n",
       "      <td>335.0</td>\n",
       "      <td>300.0</td>\n",
       "      <td>300.0</td>\n",
       "      <td>230.0</td>\n",
       "      <td>230.0</td>\n",
       "    </tr>\n",
       "    <tr>\n",
       "      <th>engine_cylinders</th>\n",
       "      <td>6.0</td>\n",
       "      <td>6.0</td>\n",
       "      <td>6.0</td>\n",
       "      <td>6.0</td>\n",
       "      <td>6.0</td>\n",
       "    </tr>\n",
       "    <tr>\n",
       "      <th>transmission_type</th>\n",
       "      <td>manual</td>\n",
       "      <td>manual</td>\n",
       "      <td>manual</td>\n",
       "      <td>manual</td>\n",
       "      <td>manual</td>\n",
       "    </tr>\n",
       "    <tr>\n",
       "      <th>driven_wheels</th>\n",
       "      <td>rear_wheel_drive</td>\n",
       "      <td>rear_wheel_drive</td>\n",
       "      <td>rear_wheel_drive</td>\n",
       "      <td>rear_wheel_drive</td>\n",
       "      <td>rear_wheel_drive</td>\n",
       "    </tr>\n",
       "    <tr>\n",
       "      <th>number_of_doors</th>\n",
       "      <td>2.0</td>\n",
       "      <td>2.0</td>\n",
       "      <td>2.0</td>\n",
       "      <td>2.0</td>\n",
       "      <td>2.0</td>\n",
       "    </tr>\n",
       "    <tr>\n",
       "      <th>market_category</th>\n",
       "      <td>factory_tuner,luxury,high-performance</td>\n",
       "      <td>luxury,performance</td>\n",
       "      <td>luxury,high-performance</td>\n",
       "      <td>luxury,performance</td>\n",
       "      <td>luxury</td>\n",
       "    </tr>\n",
       "    <tr>\n",
       "      <th>vehicle_size</th>\n",
       "      <td>compact</td>\n",
       "      <td>compact</td>\n",
       "      <td>compact</td>\n",
       "      <td>compact</td>\n",
       "      <td>compact</td>\n",
       "    </tr>\n",
       "    <tr>\n",
       "      <th>vehicle_style</th>\n",
       "      <td>coupe</td>\n",
       "      <td>convertible</td>\n",
       "      <td>coupe</td>\n",
       "      <td>coupe</td>\n",
       "      <td>convertible</td>\n",
       "    </tr>\n",
       "    <tr>\n",
       "      <th>highway_mpg</th>\n",
       "      <td>26</td>\n",
       "      <td>28</td>\n",
       "      <td>28</td>\n",
       "      <td>28</td>\n",
       "      <td>28</td>\n",
       "    </tr>\n",
       "    <tr>\n",
       "      <th>city_mpg</th>\n",
       "      <td>19</td>\n",
       "      <td>19</td>\n",
       "      <td>20</td>\n",
       "      <td>18</td>\n",
       "      <td>18</td>\n",
       "    </tr>\n",
       "    <tr>\n",
       "      <th>popularity</th>\n",
       "      <td>3916</td>\n",
       "      <td>3916</td>\n",
       "      <td>3916</td>\n",
       "      <td>3916</td>\n",
       "      <td>3916</td>\n",
       "    </tr>\n",
       "    <tr>\n",
       "      <th>msrp</th>\n",
       "      <td>46135</td>\n",
       "      <td>40650</td>\n",
       "      <td>36350</td>\n",
       "      <td>29450</td>\n",
       "      <td>34500</td>\n",
       "    </tr>\n",
       "  </tbody>\n",
       "</table>\n",
       "</div>"
      ],
      "text/plain": [
       "                                                       0  \\\n",
       "make                                                 bmw   \n",
       "model                                         1_series_m   \n",
       "year                                                2011   \n",
       "engine_fuel_type             premium_unleaded_(required)   \n",
       "engine_hp                                          335.0   \n",
       "engine_cylinders                                     6.0   \n",
       "transmission_type                                 manual   \n",
       "driven_wheels                           rear_wheel_drive   \n",
       "number_of_doors                                      2.0   \n",
       "market_category    factory_tuner,luxury,high-performance   \n",
       "vehicle_size                                     compact   \n",
       "vehicle_style                                      coupe   \n",
       "highway_mpg                                           26   \n",
       "city_mpg                                              19   \n",
       "popularity                                          3916   \n",
       "msrp                                               46135   \n",
       "\n",
       "                                             1                            2  \\\n",
       "make                                       bmw                          bmw   \n",
       "model                                 1_series                     1_series   \n",
       "year                                      2011                         2011   \n",
       "engine_fuel_type   premium_unleaded_(required)  premium_unleaded_(required)   \n",
       "engine_hp                                300.0                        300.0   \n",
       "engine_cylinders                           6.0                          6.0   \n",
       "transmission_type                       manual                       manual   \n",
       "driven_wheels                 rear_wheel_drive             rear_wheel_drive   \n",
       "number_of_doors                            2.0                          2.0   \n",
       "market_category             luxury,performance      luxury,high-performance   \n",
       "vehicle_size                           compact                      compact   \n",
       "vehicle_style                      convertible                        coupe   \n",
       "highway_mpg                                 28                           28   \n",
       "city_mpg                                    19                           20   \n",
       "popularity                                3916                         3916   \n",
       "msrp                                     40650                        36350   \n",
       "\n",
       "                                             3                            4  \n",
       "make                                       bmw                          bmw  \n",
       "model                                 1_series                     1_series  \n",
       "year                                      2011                         2011  \n",
       "engine_fuel_type   premium_unleaded_(required)  premium_unleaded_(required)  \n",
       "engine_hp                                230.0                        230.0  \n",
       "engine_cylinders                           6.0                          6.0  \n",
       "transmission_type                       manual                       manual  \n",
       "driven_wheels                 rear_wheel_drive             rear_wheel_drive  \n",
       "number_of_doors                            2.0                          2.0  \n",
       "market_category             luxury,performance                       luxury  \n",
       "vehicle_size                           compact                      compact  \n",
       "vehicle_style                            coupe                  convertible  \n",
       "highway_mpg                                 28                           28  \n",
       "city_mpg                                    18                           18  \n",
       "popularity                                3916                         3916  \n",
       "msrp                                     29450                        34500  "
      ]
     },
     "execution_count": 9,
     "metadata": {},
     "output_type": "execute_result"
    }
   ],
   "source": [
    "# view first rows of data\n",
    "car_data.head().T"
   ]
  },
  {
   "cell_type": "code",
   "execution_count": 10,
   "metadata": {
    "ExecuteTime": {
     "end_time": "2022-09-18T17:43:04.624070Z",
     "start_time": "2022-09-18T17:43:04.603799Z"
    },
    "execution": {
     "iopub.execute_input": "2022-09-12T18:04:08.614488Z",
     "iopub.status.busy": "2022-09-12T18:04:08.614057Z",
     "iopub.status.idle": "2022-09-12T18:04:08.623742Z",
     "shell.execute_reply": "2022-09-12T18:04:08.622716Z",
     "shell.execute_reply.started": "2022-09-12T18:04:08.614457Z"
    }
   },
   "outputs": [
    {
     "data": {
      "text/plain": [
       "make                  object\n",
       "model                 object\n",
       "year                   int64\n",
       "engine_fuel_type      object\n",
       "engine_hp            float64\n",
       "engine_cylinders     float64\n",
       "transmission_type     object\n",
       "driven_wheels         object\n",
       "number_of_doors      float64\n",
       "market_category       object\n",
       "vehicle_size          object\n",
       "vehicle_style         object\n",
       "highway_mpg            int64\n",
       "city_mpg               int64\n",
       "popularity             int64\n",
       "msrp                   int64\n",
       "dtype: object"
      ]
     },
     "execution_count": 10,
     "metadata": {},
     "output_type": "execute_result"
    }
   ],
   "source": [
    "# check the datatype of columns using `dtypes` attribute of the pandas dataframe.\n",
    "car_data.dtypes"
   ]
  },
  {
   "cell_type": "code",
   "execution_count": 11,
   "metadata": {
    "ExecuteTime": {
     "end_time": "2022-09-18T17:43:04.813335Z",
     "start_time": "2022-09-18T17:43:04.793320Z"
    },
    "execution": {
     "iopub.execute_input": "2022-09-12T18:06:28.434352Z",
     "iopub.status.busy": "2022-09-12T18:06:28.433962Z",
     "iopub.status.idle": "2022-09-12T18:06:28.441793Z",
     "shell.execute_reply": "2022-09-12T18:06:28.440277Z",
     "shell.execute_reply.started": "2022-09-12T18:06:28.434322Z"
    }
   },
   "outputs": [
    {
     "data": {
      "text/plain": [
       "RangeIndex(start=0, stop=11914, step=1)"
      ]
     },
     "execution_count": 11,
     "metadata": {},
     "output_type": "execute_result"
    }
   ],
   "source": [
    "# check the index of the dataframe using `index` attribute of the pandas dataframe.\n",
    "car_data.index"
   ]
  },
  {
   "cell_type": "markdown",
   "metadata": {},
   "source": [
    "# Exploratory data analysis (EDA)"
   ]
  },
  {
   "cell_type": "code",
   "execution_count": 12,
   "metadata": {
    "ExecuteTime": {
     "end_time": "2022-09-18T17:43:05.202538Z",
     "start_time": "2022-09-18T17:43:05.163012Z"
    },
    "execution": {
     "iopub.execute_input": "2022-09-12T18:13:18.943729Z",
     "iopub.status.busy": "2022-09-12T18:13:18.943235Z",
     "iopub.status.idle": "2022-09-12T18:13:18.976491Z",
     "shell.execute_reply": "2022-09-12T18:13:18.975207Z",
     "shell.execute_reply.started": "2022-09-12T18:13:18.943692Z"
    }
   },
   "outputs": [
    {
     "name": "stdout",
     "output_type": "stream",
     "text": [
      "\n",
      "make: ['bmw' 'audi' 'fiat' 'mercedes-benz' 'chrysler']\n",
      "Number of unqiue values:: 48\n",
      "\n",
      "model: ['1_series_m' '1_series' '100' '124_spider' '190-class']\n",
      "Number of unqiue values:: 914\n",
      "\n",
      "year: [2011 2012 2013 1992 1993]\n",
      "Number of unqiue values:: 28\n",
      "\n",
      "engine_fuel_type: ['premium_unleaded_(required)' 'regular_unleaded'\n",
      " 'premium_unleaded_(recommended)' 'flex-fuel_(unleaded/e85)' 'diesel']\n",
      "Number of unqiue values:: 10\n",
      "\n",
      "engine_hp: [335. 300. 230. 320. 172.]\n",
      "Number of unqiue values:: 356\n",
      "\n",
      "engine_cylinders: [ 6.  4.  5.  8. 12.]\n",
      "Number of unqiue values:: 9\n",
      "\n",
      "transmission_type: ['manual' 'automatic' 'automated_manual' 'direct_drive' 'unknown']\n",
      "Number of unqiue values:: 5\n",
      "\n",
      "driven_wheels: ['rear_wheel_drive' 'front_wheel_drive' 'all_wheel_drive'\n",
      " 'four_wheel_drive']\n",
      "Number of unqiue values:: 4\n",
      "\n",
      "number_of_doors: [ 2.  4.  3. nan]\n",
      "Number of unqiue values:: 3\n",
      "\n",
      "market_category: ['factory_tuner,luxury,high-performance' 'luxury,performance'\n",
      " 'luxury,high-performance' 'luxury' 'performance']\n",
      "Number of unqiue values:: 71\n",
      "\n",
      "vehicle_size: ['compact' 'midsize' 'large']\n",
      "Number of unqiue values:: 3\n",
      "\n",
      "vehicle_style: ['coupe' 'convertible' 'sedan' 'wagon' '4dr_hatchback']\n",
      "Number of unqiue values:: 16\n",
      "\n",
      "highway_mpg: [26 28 27 25 24]\n",
      "Number of unqiue values:: 59\n",
      "\n",
      "city_mpg: [19 20 18 17 16]\n",
      "Number of unqiue values:: 69\n",
      "\n",
      "popularity: [3916 3105  819  617 1013]\n",
      "Number of unqiue values:: 48\n",
      "\n",
      "msrp: [46135 40650 36350 29450 34500]\n",
      "Number of unqiue values:: 6049\n"
     ]
    }
   ],
   "source": [
    "# check the unique values of columns using `unqiue()` and `nunique()` method of pandas dataframe\n",
    "for col in car_data.columns:\n",
    "    print()\n",
    "    print(f\"{col}: {car_data[col].unique()[:5]}\")\n",
    "    print(\"Number of unqiue values::\", car_data[col].nunique())"
   ]
  },
  {
   "cell_type": "markdown",
   "metadata": {},
   "source": [
    "## Missing Data"
   ]
  },
  {
   "cell_type": "code",
   "execution_count": 13,
   "metadata": {
    "ExecuteTime": {
     "end_time": "2022-09-18T17:43:05.670756Z",
     "start_time": "2022-09-18T17:43:05.636779Z"
    },
    "execution": {
     "iopub.execute_input": "2022-09-12T18:21:05.347366Z",
     "iopub.status.busy": "2022-09-12T18:21:05.346942Z",
     "iopub.status.idle": "2022-09-12T18:21:05.363101Z",
     "shell.execute_reply": "2022-09-12T18:21:05.361971Z",
     "shell.execute_reply.started": "2022-09-12T18:21:05.347330Z"
    }
   },
   "outputs": [
    {
     "data": {
      "text/plain": [
       "make                    0\n",
       "model                   0\n",
       "year                    0\n",
       "engine_fuel_type        3\n",
       "engine_hp              69\n",
       "engine_cylinders       30\n",
       "transmission_type       0\n",
       "driven_wheels           0\n",
       "number_of_doors         6\n",
       "market_category      3742\n",
       "vehicle_size            0\n",
       "vehicle_style           0\n",
       "highway_mpg             0\n",
       "city_mpg                0\n",
       "popularity              0\n",
       "msrp                    0\n",
       "dtype: int64"
      ]
     },
     "execution_count": 13,
     "metadata": {},
     "output_type": "execute_result"
    }
   ],
   "source": [
    "# Missing data\n",
    "car_data.isnull().sum()"
   ]
  },
  {
   "cell_type": "markdown",
   "metadata": {},
   "source": [
    "The columns `engine_fuel_type`, `engine_hp`, `engine_cylinders`, and `market_category` have missing values."
   ]
  },
  {
   "cell_type": "markdown",
   "metadata": {},
   "source": [
    "## Distriubtion of data"
   ]
  },
  {
   "cell_type": "code",
   "execution_count": 14,
   "metadata": {
    "ExecuteTime": {
     "end_time": "2022-09-18T17:43:07.235815Z",
     "start_time": "2022-09-18T17:43:06.832252Z"
    },
    "execution": {
     "iopub.execute_input": "2022-09-12T18:54:53.672813Z",
     "iopub.status.busy": "2022-09-12T18:54:53.671997Z",
     "iopub.status.idle": "2022-09-12T18:54:54.130858Z",
     "shell.execute_reply": "2022-09-12T18:54:54.129603Z",
     "shell.execute_reply.started": "2022-09-12T18:54:53.672767Z"
    }
   },
   "outputs": [
    {
     "data": {
      "image/png": "[encoded data removed]",
      "text/plain": [
       "<Figure size 640x480 with 1 Axes>"
      ]
     },
     "metadata": {},
     "output_type": "display_data"
    }
   ],
   "source": [
    "# Let's examine the distriubtion of price of the cars.\n",
    "sns.histplot(data=car_data, \n",
    "             x='msrp', \n",
    "             bins=50, kde=True)\n",
    "\n",
    "plt.title(\"Long tail distribution of car prices\")\n",
    "plt.xlabel(\"Car price\")\n",
    "plt.show()"
   ]
  },
  {
   "cell_type": "code",
   "execution_count": 15,
   "metadata": {
    "ExecuteTime": {
     "end_time": "2022-09-18T17:43:10.885366Z",
     "start_time": "2022-09-18T17:43:10.599062Z"
    },
    "execution": {
     "iopub.execute_input": "2022-09-12T19:01:39.971116Z",
     "iopub.status.busy": "2022-09-12T19:01:39.970721Z",
     "iopub.status.idle": "2022-09-12T19:01:40.456593Z",
     "shell.execute_reply": "2022-09-12T19:01:40.455645Z",
     "shell.execute_reply.started": "2022-09-12T19:01:39.971085Z"
    }
   },
   "outputs": [
    {
     "data": {
      "image/png": "[encoded data removed]",
      "text/plain": [
       "<Figure size 640x480 with 1 Axes>"
      ]
     },
     "metadata": {},
     "output_type": "display_data"
    }
   ],
   "source": [
    "# Let's examine the distribution of the car prices less than $50000\n",
    "sns.histplot(data = car_data[car_data.msrp < 100000],\n",
    "             x='msrp', \n",
    "             bins=50, kde=True)\n",
    "\n",
    "plt.title(\"Distribution of car prices less than 100000\")\n",
    "plt.xlabel(\"Car price\")\n",
    "plt.show()"
   ]
  },
  {
   "cell_type": "code",
   "execution_count": 16,
   "metadata": {
    "ExecuteTime": {
     "end_time": "2022-09-18T17:43:15.226546Z",
     "start_time": "2022-09-18T17:43:14.871822Z"
    },
    "execution": {
     "iopub.execute_input": "2022-09-12T19:07:11.632678Z",
     "iopub.status.busy": "2022-09-12T19:07:11.631787Z",
     "iopub.status.idle": "2022-09-12T19:07:12.089948Z",
     "shell.execute_reply": "2022-09-12T19:07:12.089099Z",
     "shell.execute_reply.started": "2022-09-12T19:07:11.632638Z"
    }
   },
   "outputs": [
    {
     "data": {
      "image/png": "[encoded data removed]",
      "text/plain": [
       "<Figure size 640x480 with 1 Axes>"
      ]
     },
     "metadata": {},
     "output_type": "display_data"
    }
   ],
   "source": [
    "# Log Transformation - to convert the long-tail distribution of target variabel `price` into a normal distribution.\n",
    "# Log transformation can be performed using `log1p` method of NumPy.\n",
    "car_data['msrp'] = np.log1p(car_data['msrp'])\n",
    "\n",
    "# Examine the distribution of the target variable `car price` after log transformation.\n",
    "sns.histplot(data=car_data, \n",
    "             x='msrp', \n",
    "             bins=50, kde=True)\n",
    "\n",
    "plt.title(\"Normal distribution after log transformation\")\n",
    "plt.xlabel(\"Car price\")\n",
    "plt.show()"
   ]
  },
  {
   "cell_type": "markdown",
   "metadata": {},
   "source": [
    "## Split the data"
   ]
  },
  {
   "cell_type": "code",
   "execution_count": 33,
   "metadata": {
    "ExecuteTime": {
     "end_time": "2022-09-18T17:57:01.116620Z",
     "start_time": "2022-09-18T17:57:01.073524Z"
    }
   },
   "outputs": [],
   "source": [
    "# split the data into X and y\n",
    "X = car_data.drop('msrp', axis=1)\n",
    "y = car_data['msrp']\n",
    "\n",
    "n = car_data.shape[0]\n",
    "\n",
    "n_val = int(n*0.2)\n",
    "n_test = int(n*0.2)\n",
    "n_train = n - n_val - n_test\n",
    "\n",
    "# Create and shuffle the index array\n",
    "idx = np.arange(n)\n",
    "np.random.shuffle(idx)\n",
    "\n",
    "# Create train, validation and test set. \n",
    "X_train = X.iloc[idx[:n_train]].reset_index(drop=True)\n",
    "X_val = X.iloc[idx[n_train: n_train+n_val]].reset_index(drop=True)\n",
    "X_test = X.iloc[idx[n_train+n_val:]].reset_index(drop=True)\n",
    "\n",
    "y_train = y.iloc[idx[:n_train]].reset_index(drop=True)\n",
    "y_val = y.iloc[idx[n_train: n_train+n_val]].reset_index(drop=True)\n",
    "y_test = y.iloc[idx[n_train+n_val:]].reset_index(drop=True)"
   ]
  },
  {
   "cell_type": "markdown",
   "metadata": {},
   "source": [
    "## Linear Regression\n",
    "In linear regression, the object is to adjust a line for the data and make predictions on new values. The input of this model is the feature matrix `X` and a `y` vector of predictions is obtained, trying to be as close as possible to the actual `y` values. The linear regression formula is sum of the bias term($w_0$), which refers to the predictions if there is no information, and each of the feature values times their corresponding weights as ($x_{i1}.w_1 + x_{i2}.w_2+... + x_{in}.w_n$)\n",
    "\n",
    "So, linear regression formula:- $g(x_i) = w_0 + x_{i1}*w_1 + x_{i2}*w_2+... + x_{in}*w_n $\n",
    "\n",
    "$g(x_i) = w_0 + \\sum_{j=0}^n w_j * X_{ij}$\n",
    "\n",
    "The $( x_{i1}.w_1 + x_{i2}.w_2+... + x_{in}.w_n )$ equation is same as the vector-vector mulitplication. Hence, we can rewrite the equation. $g(x_i) = w_0 + x_{i}^T * w_j$\n"
   ]
  },
  {
   "cell_type": "code",
   "execution_count": 34,
   "metadata": {
    "ExecuteTime": {
     "end_time": "2022-09-18T17:57:05.034853Z",
     "start_time": "2022-09-18T17:57:05.019004Z"
    }
   },
   "outputs": [],
   "source": [
    "def linear_regression(X, y):\n",
    "    ones = np.ones(X.shape[0])\n",
    "    X = np.column_stack([ones, X])\n",
    "\n",
    "    XTX = X.T.dot(X)\n",
    "    XTX_inv = np.linalg.inv(XTX)\n",
    "    w = XTX_inv.dot(X.T).dot(y)\n",
    "    \n",
    "    return w[0], w[1:]"
   ]
  },
  {
   "cell_type": "markdown",
   "metadata": {},
   "source": [
    "## Base Model"
   ]
  },
  {
   "cell_type": "code",
   "execution_count": 35,
   "metadata": {
    "ExecuteTime": {
     "end_time": "2022-09-18T17:57:17.029440Z",
     "start_time": "2022-09-18T17:57:17.007423Z"
    }
   },
   "outputs": [],
   "source": [
    "# Create a baseline model for car price predictions.\n",
    "columns = ['engine_hp', 'engine_cylinders', 'highway_mpg', 'city_mpg', 'popularity']\n",
    "X_nums = X_train[columns].fillna(0)\n",
    "\n",
    "# model training\n",
    "w0, w = linear_regression(X_nums, y_train)\n",
    "\n",
    "# predictions\n",
    "y_preds = w0 + X_nums.dot(w)"
   ]
  },
  {
   "cell_type": "code",
   "execution_count": 36,
   "metadata": {
    "ExecuteTime": {
     "end_time": "2022-09-18T17:57:19.461944Z",
     "start_time": "2022-09-18T17:57:19.117325Z"
    }
   },
   "outputs": [
    {
     "data": {
      "image/png": "[encoded data removed]",
      "text/plain": [
       "<Figure size 640x480 with 1 Axes>"
      ]
     },
     "metadata": {},
     "output_type": "display_data"
    }
   ],
   "source": [
    "# Visualization\n",
    "plt.hist(y_train, alpha=0.5, label='y_true', bins=50)\n",
    "plt.hist(y_preds, alpha=0.5, label='y_predictions', bins=50)\n",
    "plt.legend()\n",
    "plt.show()"
   ]
  },
  {
   "cell_type": "markdown",
   "metadata": {},
   "source": [
    "## Model Evaluation\n",
    "\n",
    "**Root Mean Squared Error** - $RMSE = \\sqrt{\\frac{1}n \\sum_{i=1}^n (y_{i} - \\hat{y_{i}})}$"
   ]
  },
  {
   "cell_type": "code",
   "execution_count": 37,
   "metadata": {
    "ExecuteTime": {
     "end_time": "2022-09-18T17:57:21.934271Z",
     "start_time": "2022-09-18T17:57:21.919267Z"
    }
   },
   "outputs": [],
   "source": [
    "def rsme(y_true, y_preds):\n",
    "    err = y_true - y_preds\n",
    "    result = np.sqrt(np.mean(err**2))\n",
    "    return result"
   ]
  },
  {
   "cell_type": "code",
   "execution_count": 38,
   "metadata": {
    "ExecuteTime": {
     "end_time": "2022-09-18T17:57:22.322732Z",
     "start_time": "2022-09-18T17:57:22.307097Z"
    }
   },
   "outputs": [
    {
     "data": {
      "text/plain": [
       "0.7448150882034197"
      ]
     },
     "execution_count": 38,
     "metadata": {},
     "output_type": "execute_result"
    }
   ],
   "source": [
    "rsme(y_train, y_preds)"
   ]
  },
  {
   "cell_type": "markdown",
   "metadata": {},
   "source": [
    "#### Model evaluation on validation test"
   ]
  },
  {
   "cell_type": "code",
   "execution_count": 39,
   "metadata": {
    "ExecuteTime": {
     "end_time": "2022-09-18T17:57:23.687595Z",
     "start_time": "2022-09-18T17:57:23.673065Z"
    }
   },
   "outputs": [],
   "source": [
    "def prepare_x(df):\n",
    "    df = df.copy()\n",
    "    X = df[columns]\n",
    "    X = X.fillna(0)\n",
    "    return X.values"
   ]
  },
  {
   "cell_type": "code",
   "execution_count": 24,
   "metadata": {
    "ExecuteTime": {
     "end_time": "2022-09-18T17:43:29.630476Z",
     "start_time": "2022-09-18T17:43:29.266658Z"
    }
   },
   "outputs": [
    {
     "data": {
      "image/png": "[encoded data removed]",
      "text/plain": [
       "<Figure size 640x480 with 1 Axes>"
      ]
     },
     "metadata": {},
     "output_type": "display_data"
    }
   ],
   "source": [
    "X_num = prepare_x(X_val)\n",
    "# model training\n",
    "w0, w = linear_regression(X_num, y_val)\n",
    "\n",
    "# predictions\n",
    "y_preds = w0 + X_num.dot(w)\n",
    "\n",
    "# Visualization\n",
    "plt.hist(y_val, alpha=0.5, label='y_true', bins=50)\n",
    "plt.hist(y_preds, alpha=0.5, label='y_predictions', bins=50)\n",
    "plt.title(\"Model evaluation on Validation data\")\n",
    "plt.legend()\n",
    "plt.show()"
   ]
  },
  {
   "cell_type": "code",
   "execution_count": 42,
   "metadata": {
    "ExecuteTime": {
     "end_time": "2022-09-18T18:10:54.077788Z",
     "start_time": "2022-09-18T18:10:54.067789Z"
    }
   },
   "outputs": [
    {
     "data": {
      "text/plain": [
       "0.5188398209493876"
      ]
     },
     "execution_count": 42,
     "metadata": {},
     "output_type": "execute_result"
    }
   ],
   "source": [
    "rsme(y_train, y_preds)"
   ]
  },
  {
   "cell_type": "markdown",
   "metadata": {},
   "source": [
    "# Feature engineering"
   ]
  },
  {
   "cell_type": "code",
   "execution_count": 44,
   "metadata": {
    "ExecuteTime": {
     "end_time": "2022-09-18T18:11:16.349281Z",
     "start_time": "2022-09-18T18:11:16.330282Z"
    }
   },
   "outputs": [],
   "source": [
    "def prepare_x(df):\n",
    "    df = df.copy()\n",
    "    df['age'] = 2017 - df.year\n",
    "    features = columns + ['age']\n",
    "    X = df[features]\n",
    "    X = X.fillna(0)\n",
    "    return X.values"
   ]
  },
  {
   "cell_type": "code",
   "execution_count": 45,
   "metadata": {
    "ExecuteTime": {
     "end_time": "2022-09-18T18:11:17.482992Z",
     "start_time": "2022-09-18T18:11:17.111930Z"
    }
   },
   "outputs": [
    {
     "data": {
      "image/png": "[encoded data removed]",
      "text/plain": [
       "<Figure size 640x480 with 1 Axes>"
      ]
     },
     "metadata": {},
     "output_type": "display_data"
    }
   ],
   "source": [
    "# data preparation\n",
    "X_nums = prepare_x(X_train)\n",
    "\n",
    "# model training\n",
    "w0, w = linear_regression(X_nums, y_train)\n",
    "\n",
    "# predictions\n",
    "y_preds = w0 + X_nums.dot(w)\n",
    "\n",
    "# Visualization\n",
    "plt.hist(y_train, alpha=0.5, label='y_true', bins=50)\n",
    "plt.hist(y_preds, alpha=0.5, label='y_predictions', bins=50)\n",
    "plt.title(\"Model evaluation on Validation data\")\n",
    "plt.legend()\n",
    "plt.show()"
   ]
  },
  {
   "cell_type": "code",
   "execution_count": 46,
   "metadata": {
    "ExecuteTime": {
     "end_time": "2022-09-18T18:11:19.408384Z",
     "start_time": "2022-09-18T18:11:19.386371Z"
    }
   },
   "outputs": [
    {
     "data": {
      "text/plain": [
       "0.5188398209493876"
      ]
     },
     "execution_count": 46,
     "metadata": {},
     "output_type": "execute_result"
    }
   ],
   "source": [
    "rsme(y_train, y_preds)"
   ]
  },
  {
   "cell_type": "markdown",
   "metadata": {},
   "source": [
    "# Categorical Variable"
   ]
  },
  {
   "cell_type": "code",
   "execution_count": 49,
   "metadata": {
    "ExecuteTime": {
     "end_time": "2022-09-18T18:16:02.349169Z",
     "start_time": "2022-09-18T18:16:02.327170Z"
    }
   },
   "outputs": [
    {
     "data": {
      "text/plain": [
       "make                  object\n",
       "model                 object\n",
       "year                   int64\n",
       "engine_fuel_type      object\n",
       "engine_hp            float64\n",
       "engine_cylinders     float64\n",
       "transmission_type     object\n",
       "driven_wheels         object\n",
       "number_of_doors      float64\n",
       "market_category       object\n",
       "vehicle_size          object\n",
       "vehicle_style         object\n",
       "highway_mpg            int64\n",
       "city_mpg               int64\n",
       "popularity             int64\n",
       "dtype: object"
      ]
     },
     "execution_count": 49,
     "metadata": {},
     "output_type": "execute_result"
    }
   ],
   "source": [
    "X_train.dtypes"
   ]
  },
  {
   "cell_type": "code",
   "execution_count": null,
   "metadata": {},
   "outputs": [],
   "source": []
  },
  {
   "cell_type": "code",
   "execution_count": null,
   "metadata": {},
   "outputs": [],
   "source": []
  }
 ],
 "metadata": {
  "hide_input": false,
  "kernelspec": {
   "display_name": "Python 3 (ipykernel)",
   "language": "python",
   "name": "python3"
  },
  "language_info": {
   "codemirror_mode": {
    "name": "ipython",
    "version": 3
   },
   "file_extension": ".py",
   "mimetype": "text/x-python",
   "name": "python",
   "nbconvert_exporter": "python",
   "pygments_lexer": "ipython3",
   "version": "3.9.7"
  },
  "vscode": {
   "interpreter": {
    "hash": "ae13a35c1b5fd357786d1c14fdd50ced54d79dc643ef2321f5eda5225c2dd5f9"
   }
  }
 },
 "nbformat": 4,
 "nbformat_minor": 4
}
